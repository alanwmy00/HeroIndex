{
 "cells": [
  {
   "cell_type": "code",
   "execution_count": 4,
   "id": "d6c68eaa",
   "metadata": {},
   "outputs": [],
   "source": [
    "import pandas as pd\n",
    "import numpy as np\n",
    "import sklearn\n",
    "from matplotlib import pyplot as plt"
   ]
  },
  {
   "cell_type": "code",
   "execution_count": 5,
   "id": "48394608",
   "metadata": {},
   "outputs": [],
   "source": [
    "import tensorflow as tf\n",
    "from tensorflow import keras\n",
    "from tensorflow.keras import layers\n",
    "from tensorflow.keras.layers.experimental.preprocessing import TextVectorization\n",
    "from tensorflow.keras.layers.experimental.preprocessing import StringLookup\n",
    "\n",
    "from sklearn.preprocessing import MultiLabelBinarizer\n",
    "from sklearn.model_selection import train_test_split\n",
    "tf.random.set_seed(1)\n"
   ]
  },
  {
   "cell_type": "code",
   "execution_count": 6,
   "id": "d086218e",
   "metadata": {},
   "outputs": [],
   "source": [
    "articles = pd.read_csv(\"Article-2022-05-08.csv\")"
   ]
  },
  {
   "cell_type": "code",
   "execution_count": 7,
   "id": "9cbd08a4",
   "metadata": {},
   "outputs": [
    {
     "data": {
      "text/plain": [
       "(2681, 19)"
      ]
     },
     "execution_count": 7,
     "metadata": {},
     "output_type": "execute_result"
    }
   ],
   "source": [
    "articles.shape"
   ]
  },
  {
   "cell_type": "code",
   "execution_count": 8,
   "id": "991862de",
   "metadata": {
    "scrolled": true
   },
   "outputs": [],
   "source": [
    "articles_labeled = articles.copy()\n",
    "articles_labeled['key_terms'] = articles['key_terms'].apply(lambda s: [l for l in str(s).split(',')])\n",
    "mlb = MultiLabelBinarizer()\n",
    "mlb.fit(articles_labeled[\"key_terms\"])\n",
    "articles_labeled['text'] = articles_labeled['text'].fillna(\"\")\n",
    "articles_labeled['text'] = articles_labeled['title'] + articles_labeled['text']"
   ]
  },
  {
   "cell_type": "code",
   "execution_count": 9,
   "id": "1ae9febe",
   "metadata": {
    "scrolled": true
   },
   "outputs": [
    {
     "data": {
      "text/html": [
       "<div>\n",
       "<style scoped>\n",
       "    .dataframe tbody tr th:only-of-type {\n",
       "        vertical-align: middle;\n",
       "    }\n",
       "\n",
       "    .dataframe tbody tr th {\n",
       "        vertical-align: top;\n",
       "    }\n",
       "\n",
       "    .dataframe thead th {\n",
       "        text-align: right;\n",
       "    }\n",
       "</style>\n",
       "<table border=\"1\" class=\"dataframe\">\n",
       "  <thead>\n",
       "    <tr style=\"text-align: right;\">\n",
       "      <th></th>\n",
       "      <th>id</th>\n",
       "      <th>created_at</th>\n",
       "      <th>updated_at</th>\n",
       "      <th>key_terms</th>\n",
       "      <th>companies</th>\n",
       "      <th>source_id</th>\n",
       "      <th>source_name</th>\n",
       "      <th>source_domain</th>\n",
       "      <th>source_url</th>\n",
       "      <th>title</th>\n",
       "      <th>description</th>\n",
       "      <th>author</th>\n",
       "      <th>published_at</th>\n",
       "      <th>url</th>\n",
       "      <th>image_url</th>\n",
       "      <th>text</th>\n",
       "      <th>summary</th>\n",
       "      <th>text_sentiment</th>\n",
       "      <th>title_sentiment</th>\n",
       "    </tr>\n",
       "  </thead>\n",
       "  <tbody>\n",
       "    <tr>\n",
       "      <th>0</th>\n",
       "      <td>1194</td>\n",
       "      <td>2021-06-18 12:12:45</td>\n",
       "      <td>2021-06-18 12:12:46</td>\n",
       "      <td>[5]</td>\n",
       "      <td>188</td>\n",
       "      <td>NaN</td>\n",
       "      <td>thecsrjournal</td>\n",
       "      <td>thecsrjournal.in</td>\n",
       "      <td>https://thecsrjournal.in</td>\n",
       "      <td>FedEx Commits to Carbon-Neutral Operations by ...</td>\n",
       "      <td>FedEx Commits to Carbon-Neutral Operations by ...</td>\n",
       "      <td>The Csr Journal</td>\n",
       "      <td>2021-03-13 08:23:09</td>\n",
       "      <td>https://thecsrjournal.in/fedex-carbon-neutral-...</td>\n",
       "      <td>https://gnewsapi.net/redirect-news-image/289b1...</td>\n",
       "      <td>FedEx Commits to Carbon-Neutral Operations by ...</td>\n",
       "      <td>NaN</td>\n",
       "      <td>NaN</td>\n",
       "      <td>-0.981564</td>\n",
       "    </tr>\n",
       "    <tr>\n",
       "      <th>1</th>\n",
       "      <td>1709</td>\n",
       "      <td>2021-06-18 12:12:45</td>\n",
       "      <td>2021-06-18 12:12:46</td>\n",
       "      <td>[15]</td>\n",
       "      <td>206</td>\n",
       "      <td>NaN</td>\n",
       "      <td>KIRO Seattle</td>\n",
       "      <td>www.kiro7.com</td>\n",
       "      <td>https://www.kiro7.com</td>\n",
       "      <td>Black scholar: It's time France confronts its ...</td>\n",
       "      <td>Black scholar: It's time France confronts its ...</td>\n",
       "      <td>Sylvie Corbet Jared Leone Cox Media Group Nati...</td>\n",
       "      <td>2021-03-13 07:57:57</td>\n",
       "      <td>https://www.kiro7.com/entertainment/black-scho...</td>\n",
       "      <td>https://gnewsapi.net/redirect-news-image/37062...</td>\n",
       "      <td>Black scholar: It's time France confronts its ...</td>\n",
       "      <td>NaN</td>\n",
       "      <td>NaN</td>\n",
       "      <td>0.816899</td>\n",
       "    </tr>\n",
       "    <tr>\n",
       "      <th>2</th>\n",
       "      <td>1949</td>\n",
       "      <td>2021-06-18 12:12:45</td>\n",
       "      <td>2021-06-18 12:12:46</td>\n",
       "      <td>[5]</td>\n",
       "      <td>31</td>\n",
       "      <td>NaN</td>\n",
       "      <td>Gulf News</td>\n",
       "      <td>gulfnews.com</td>\n",
       "      <td>https://gulfnews.com</td>\n",
       "      <td>Network International is optimistic on region'...</td>\n",
       "      <td>Network International is optimistic on region'...</td>\n",
       "      <td>NaN</td>\n",
       "      <td>2021-03-13 06:54:33</td>\n",
       "      <td>https://gulfnews.com/business/banking/network-...</td>\n",
       "      <td>https://gnewsapi.net/redirect-news-image/888d3...</td>\n",
       "      <td>Network International is optimistic on region'...</td>\n",
       "      <td>NaN</td>\n",
       "      <td>NaN</td>\n",
       "      <td>0.969982</td>\n",
       "    </tr>\n",
       "    <tr>\n",
       "      <th>3</th>\n",
       "      <td>1547</td>\n",
       "      <td>2021-06-18 12:12:45</td>\n",
       "      <td>2021-06-18 12:12:46</td>\n",
       "      <td>[4]</td>\n",
       "      <td>206</td>\n",
       "      <td>NaN</td>\n",
       "      <td>Yahoo News Canada</td>\n",
       "      <td>ca.news.yahoo.com</td>\n",
       "      <td>https://ca.news.yahoo.com</td>\n",
       "      <td>No winning ticket for Friday night's $44.8 mil...</td>\n",
       "      <td>No winning ticket for Friday night's $44.8 mil...</td>\n",
       "      <td>NaN</td>\n",
       "      <td>2021-03-13 06:11:38</td>\n",
       "      <td>https://ca.news.yahoo.com/no-winning-ticket-fr...</td>\n",
       "      <td>https://gnewsapi.net/redirect-news-image/e439c...</td>\n",
       "      <td>No winning ticket for Friday night's $44.8 mil...</td>\n",
       "      <td>NaN</td>\n",
       "      <td>NaN</td>\n",
       "      <td>-0.998206</td>\n",
       "    </tr>\n",
       "    <tr>\n",
       "      <th>4</th>\n",
       "      <td>2316</td>\n",
       "      <td>2021-06-18 12:12:45</td>\n",
       "      <td>2021-06-18 12:12:46</td>\n",
       "      <td>[8]</td>\n",
       "      <td>421</td>\n",
       "      <td>NaN</td>\n",
       "      <td>The Robesonian</td>\n",
       "      <td>www.robesonian.com</td>\n",
       "      <td>https://www.robesonian.com</td>\n",
       "      <td>UNCP's virtual Women's Empowerment Summit is F...</td>\n",
       "      <td>UNCP's virtual Women's Empowerment Summit is F...</td>\n",
       "      <td>NaN</td>\n",
       "      <td>2021-03-13 04:49:00</td>\n",
       "      <td>https://www.robesonian.com/uncategorized/14356...</td>\n",
       "      <td>https://gnewsapi.net/redirect-news-image/9feaa...</td>\n",
       "      <td>UNCP's virtual Women's Empowerment Summit is F...</td>\n",
       "      <td>NaN</td>\n",
       "      <td>NaN</td>\n",
       "      <td>0.904579</td>\n",
       "    </tr>\n",
       "  </tbody>\n",
       "</table>\n",
       "</div>"
      ],
      "text/plain": [
       "     id           created_at           updated_at key_terms companies  \\\n",
       "0  1194  2021-06-18 12:12:45  2021-06-18 12:12:46       [5]       188   \n",
       "1  1709  2021-06-18 12:12:45  2021-06-18 12:12:46      [15]       206   \n",
       "2  1949  2021-06-18 12:12:45  2021-06-18 12:12:46       [5]        31   \n",
       "3  1547  2021-06-18 12:12:45  2021-06-18 12:12:46       [4]       206   \n",
       "4  2316  2021-06-18 12:12:45  2021-06-18 12:12:46       [8]       421   \n",
       "\n",
       "   source_id        source_name       source_domain  \\\n",
       "0        NaN      thecsrjournal    thecsrjournal.in   \n",
       "1        NaN       KIRO Seattle       www.kiro7.com   \n",
       "2        NaN          Gulf News        gulfnews.com   \n",
       "3        NaN  Yahoo News Canada   ca.news.yahoo.com   \n",
       "4        NaN     The Robesonian  www.robesonian.com   \n",
       "\n",
       "                   source_url  \\\n",
       "0    https://thecsrjournal.in   \n",
       "1       https://www.kiro7.com   \n",
       "2        https://gulfnews.com   \n",
       "3   https://ca.news.yahoo.com   \n",
       "4  https://www.robesonian.com   \n",
       "\n",
       "                                               title  \\\n",
       "0  FedEx Commits to Carbon-Neutral Operations by ...   \n",
       "1  Black scholar: It's time France confronts its ...   \n",
       "2  Network International is optimistic on region'...   \n",
       "3  No winning ticket for Friday night's $44.8 mil...   \n",
       "4  UNCP's virtual Women's Empowerment Summit is F...   \n",
       "\n",
       "                                         description  \\\n",
       "0  FedEx Commits to Carbon-Neutral Operations by ...   \n",
       "1  Black scholar: It's time France confronts its ...   \n",
       "2  Network International is optimistic on region'...   \n",
       "3  No winning ticket for Friday night's $44.8 mil...   \n",
       "4  UNCP's virtual Women's Empowerment Summit is F...   \n",
       "\n",
       "                                              author         published_at  \\\n",
       "0                                    The Csr Journal  2021-03-13 08:23:09   \n",
       "1  Sylvie Corbet Jared Leone Cox Media Group Nati...  2021-03-13 07:57:57   \n",
       "2                                                NaN  2021-03-13 06:54:33   \n",
       "3                                                NaN  2021-03-13 06:11:38   \n",
       "4                                                NaN  2021-03-13 04:49:00   \n",
       "\n",
       "                                                 url  \\\n",
       "0  https://thecsrjournal.in/fedex-carbon-neutral-...   \n",
       "1  https://www.kiro7.com/entertainment/black-scho...   \n",
       "2  https://gulfnews.com/business/banking/network-...   \n",
       "3  https://ca.news.yahoo.com/no-winning-ticket-fr...   \n",
       "4  https://www.robesonian.com/uncategorized/14356...   \n",
       "\n",
       "                                           image_url  \\\n",
       "0  https://gnewsapi.net/redirect-news-image/289b1...   \n",
       "1  https://gnewsapi.net/redirect-news-image/37062...   \n",
       "2  https://gnewsapi.net/redirect-news-image/888d3...   \n",
       "3  https://gnewsapi.net/redirect-news-image/e439c...   \n",
       "4  https://gnewsapi.net/redirect-news-image/9feaa...   \n",
       "\n",
       "                                                text  summary  text_sentiment  \\\n",
       "0  FedEx Commits to Carbon-Neutral Operations by ...      NaN             NaN   \n",
       "1  Black scholar: It's time France confronts its ...      NaN             NaN   \n",
       "2  Network International is optimistic on region'...      NaN             NaN   \n",
       "3  No winning ticket for Friday night's $44.8 mil...      NaN             NaN   \n",
       "4  UNCP's virtual Women's Empowerment Summit is F...      NaN             NaN   \n",
       "\n",
       "   title_sentiment  \n",
       "0        -0.981564  \n",
       "1         0.816899  \n",
       "2         0.969982  \n",
       "3        -0.998206  \n",
       "4         0.904579  "
      ]
     },
     "execution_count": 9,
     "metadata": {},
     "output_type": "execute_result"
    }
   ],
   "source": [
    "articles_labeled.head()"
   ]
  },
  {
   "cell_type": "code",
   "execution_count": 10,
   "id": "c06f59ac",
   "metadata": {
    "scrolled": true
   },
   "outputs": [
    {
     "data": {
      "text/plain": [
       "array([[0, 0, 0, ..., 0, 0, 0],\n",
       "       [0, 0, 0, ..., 0, 0, 0],\n",
       "       [0, 0, 0, ..., 0, 0, 0],\n",
       "       ...,\n",
       "       [0, 0, 0, ..., 0, 0, 0],\n",
       "       [0, 0, 1, ..., 0, 0, 0],\n",
       "       [0, 0, 0, ..., 0, 0, 0]])"
      ]
     },
     "execution_count": 10,
     "metadata": {},
     "output_type": "execute_result"
    }
   ],
   "source": [
    "y_bin = mlb.transform(articles_labeled[\"key_terms\"])\n",
    "y_bin"
   ]
  },
  {
   "cell_type": "code",
   "execution_count": 11,
   "id": "afb19646",
   "metadata": {},
   "outputs": [
    {
     "name": "stderr",
     "output_type": "stream",
     "text": [
      "[nltk_data] Downloading package stopwords to\n",
      "[nltk_data]     C:\\Users\\wmy\\AppData\\Roaming\\nltk_data...\n",
      "[nltk_data]   Package stopwords is already up-to-date!\n"
     ]
    }
   ],
   "source": [
    "import nltk\n",
    "from nltk.corpus import stopwords\n",
    "from string import punctuation\n",
    "import re\n",
    "nltk.download('stopwords')\n",
    "stops = set(stopwords.words('english'))\n",
    "stops.add(\"'s\")\n",
    "stops.remove(\"not\")\n",
    "\n",
    "\n",
    "def clean(sentence):\n",
    "    # delete stopwords\n",
    "    temp = \" \".join(filter(lambda x: x not in stops, sentence.split()))\n",
    "    # Remove punctuation\n",
    "    temp = temp.translate(str.maketrans('', '', punctuation))\n",
    "    # remove non-english characters\n",
    "    temp = temp.encode(\"ascii\", \"ignore\").decode()\n",
    "    # Change all to lower case\n",
    "    temp = temp.lower()\n",
    "    # Delete numbers\n",
    "    temp = re.sub(r'[0-9]', \"\", temp)\n",
    "    # Delete excessive spaces and return\n",
    "    return re.sub(\"  \", \" \", temp)"
   ]
  },
  {
   "cell_type": "code",
   "execution_count": 12,
   "id": "68e8b6fc",
   "metadata": {},
   "outputs": [],
   "source": [
    "articles_labeled[\"text\"] = articles_labeled[\"text\"].apply(clean)"
   ]
  },
  {
   "cell_type": "code",
   "execution_count": 13,
   "id": "7dbc5745",
   "metadata": {},
   "outputs": [],
   "source": [
    "data = tf.data.Dataset.from_tensor_slices((articles_labeled[\"text\"], y_bin))\n",
    "data = data.shuffle(buffer_size = len(data), seed=1)\n",
    "train_size = int(0.7*len(data))\n",
    "val_size   = int(0.1*len(data)) \n",
    "\n",
    "train = data.take(train_size)\n",
    "val   = data.skip(train_size).take(val_size)\n",
    "test  = data.skip(train_size + val_size)"
   ]
  },
  {
   "cell_type": "code",
   "execution_count": 14,
   "id": "7f92fa06",
   "metadata": {},
   "outputs": [],
   "source": [
    "# only the top distinct words will be tracked\n",
    "max_tokens = 2000\n",
    "\n",
    "# each headline will be a vector of length 25\n",
    "sequence_length = 25\n",
    "\n",
    "vectorize_layer = TextVectorization(\n",
    "    max_tokens=max_tokens, # only consider this many words\n",
    "    output_mode='int',\n",
    "    output_sequence_length=sequence_length) "
   ]
  },
  {
   "cell_type": "code",
   "execution_count": 15,
   "id": "1d46de5f",
   "metadata": {},
   "outputs": [],
   "source": [
    "headlines = train.map(lambda x, y: x)\n",
    "vectorize_layer.adapt(headlines)"
   ]
  },
  {
   "cell_type": "code",
   "execution_count": 16,
   "id": "29c80877",
   "metadata": {},
   "outputs": [],
   "source": [
    "def vectorize_headline(text, label):\n",
    "    text = tf.expand_dims(text, -1)\n",
    "    return vectorize_layer(text), [label]\n",
    "\n",
    "train_vec = train.map(vectorize_headline)\n",
    "val_vec = val.map(vectorize_headline)\n",
    "test_vec = test.map(vectorize_headline)"
   ]
  },
  {
   "cell_type": "code",
   "execution_count": 99,
   "id": "0b9e2cdb",
   "metadata": {},
   "outputs": [],
   "source": [
    "model2 = tf.keras.Sequential([\n",
    "    layers.Embedding(max_tokens, output_dim = 64, name=\"embedding\"),\n",
    "    layers.Dropout(0.2),\n",
    "    layers.Bidirectional(tf.keras.layers.LSTM(64, return_sequences=True)),\n",
    "    layers.Bidirectional(tf.keras.layers.LSTM(32)),\n",
    "    layers.Dropout(0.5),\n",
    "    layers.Dense(16, activation=\"sigmoid\")]\n",
    ")\n",
    "\n"
   ]
  },
  {
   "cell_type": "code",
   "execution_count": 100,
   "id": "071f9530",
   "metadata": {},
   "outputs": [],
   "source": [
    "model2.compile(loss='binary_crossentropy',\n",
    "              optimizer='adam', \n",
    "              metrics=['accuracy', tf.keras.metrics.AUC()])"
   ]
  },
  {
   "cell_type": "code",
   "execution_count": 101,
   "id": "596116f5",
   "metadata": {},
   "outputs": [
    {
     "name": "stdout",
     "output_type": "stream",
     "text": [
      "Epoch 1/30\n",
      "1876/1876 [==============================] - 49s 22ms/step - loss: 0.2538 - accuracy: 0.0869 - auc_3: 0.6281 - val_loss: 0.2461 - val_accuracy: 0.1231 - val_auc_3: 0.6729\n",
      "Epoch 2/30\n",
      "1876/1876 [==============================] - 42s 22ms/step - loss: 0.2360 - accuracy: 0.0954 - auc_3: 0.6597 - val_loss: 0.2326 - val_accuracy: 0.0746 - val_auc_3: 0.6730\n",
      "Epoch 3/30\n",
      "1876/1876 [==============================] - 44s 24ms/step - loss: 0.2269 - accuracy: 0.1583 - auc_3: 0.7168 - val_loss: 0.2093 - val_accuracy: 0.2015 - val_auc_3: 0.7911\n",
      "Epoch 4/30\n",
      "1876/1876 [==============================] - 50s 27ms/step - loss: 0.2119 - accuracy: 0.2308 - auc_3: 0.7799 - val_loss: 0.1936 - val_accuracy: 0.3507 - val_auc_3: 0.8511\n",
      "Epoch 5/30\n",
      "1876/1876 [==============================] - 44s 23ms/step - loss: 0.1984 - accuracy: 0.3129 - auc_3: 0.8202 - val_loss: 0.1726 - val_accuracy: 0.4104 - val_auc_3: 0.8966\n",
      "Epoch 6/30\n",
      "1876/1876 [==============================] - 51s 27ms/step - loss: 0.1851 - accuracy: 0.3710 - auc_3: 0.8537 - val_loss: 0.1553 - val_accuracy: 0.5149 - val_auc_3: 0.9089\n",
      "Epoch 7/30\n",
      "1876/1876 [==============================] - 44s 24ms/step - loss: 0.1756 - accuracy: 0.4168 - auc_3: 0.8707 - val_loss: 0.1421 - val_accuracy: 0.5187 - val_auc_3: 0.9306\n",
      "Epoch 8/30\n",
      "1876/1876 [==============================] - 46s 25ms/step - loss: 0.1628 - accuracy: 0.4792 - auc_3: 0.8931 - val_loss: 0.1396 - val_accuracy: 0.6418 - val_auc_3: 0.9355\n",
      "Epoch 9/30\n",
      "1876/1876 [==============================] - 51s 27ms/step - loss: 0.1525 - accuracy: 0.5267 - auc_3: 0.9077 - val_loss: 0.1259 - val_accuracy: 0.6604 - val_auc_3: 0.9475\n",
      "Epoch 10/30\n",
      "1876/1876 [==============================] - 43s 23ms/step - loss: 0.1448 - accuracy: 0.5410 - auc_3: 0.9192 - val_loss: 0.1182 - val_accuracy: 0.6455 - val_auc_3: 0.9563\n",
      "Epoch 11/30\n",
      "1876/1876 [==============================] - 49s 26ms/step - loss: 0.1326 - accuracy: 0.5986 - auc_3: 0.9352 - val_loss: 0.1024 - val_accuracy: 0.7015 - val_auc_3: 0.9683\n",
      "Epoch 12/30\n",
      "1876/1876 [==============================] - 47s 25ms/step - loss: 0.1186 - accuracy: 0.6466 - auc_3: 0.9492 - val_loss: 0.0888 - val_accuracy: 0.7724 - val_auc_3: 0.9776\n",
      "Epoch 13/30\n",
      "1876/1876 [==============================] - 46s 24ms/step - loss: 0.1121 - accuracy: 0.6764 - auc_3: 0.9537 - val_loss: 0.0887 - val_accuracy: 0.7836 - val_auc_3: 0.9686\n",
      "Epoch 14/30\n",
      "1876/1876 [==============================] - 51s 27ms/step - loss: 0.1077 - accuracy: 0.6908 - auc_3: 0.9557 - val_loss: 0.0750 - val_accuracy: 0.8097 - val_auc_3: 0.9837\n",
      "Epoch 15/30\n",
      "1876/1876 [==============================] - 44s 24ms/step - loss: 0.1044 - accuracy: 0.7228 - auc_3: 0.9589 - val_loss: 0.0833 - val_accuracy: 0.7985 - val_auc_3: 0.9760\n",
      "Epoch 16/30\n",
      "1876/1876 [==============================] - 55s 29ms/step - loss: 0.0920 - accuracy: 0.7564 - auc_3: 0.9686 - val_loss: 0.0581 - val_accuracy: 0.8507 - val_auc_3: 0.9870\n",
      "Epoch 17/30\n",
      "1876/1876 [==============================] - 49s 26ms/step - loss: 0.0879 - accuracy: 0.7767 - auc_3: 0.9693 - val_loss: 0.0600 - val_accuracy: 0.8507 - val_auc_3: 0.9898\n",
      "Epoch 18/30\n",
      "1876/1876 [==============================] - 44s 23ms/step - loss: 0.0787 - accuracy: 0.8001 - auc_3: 0.9736 - val_loss: 0.0538 - val_accuracy: 0.8582 - val_auc_3: 0.9891\n",
      "Epoch 19/30\n",
      "1876/1876 [==============================] - 51s 27ms/step - loss: 0.0771 - accuracy: 0.8145 - auc_3: 0.9750 - val_loss: 0.0479 - val_accuracy: 0.8843 - val_auc_3: 0.9919\n",
      "Epoch 20/30\n",
      "1876/1876 [==============================] - 47s 25ms/step - loss: 0.0679 - accuracy: 0.8278 - auc_3: 0.9818 - val_loss: 0.0417 - val_accuracy: 0.9104 - val_auc_3: 0.9926\n",
      "Epoch 21/30\n",
      "1876/1876 [==============================] - 46s 25ms/step - loss: 0.0681 - accuracy: 0.8470 - auc_3: 0.9785 - val_loss: 0.0390 - val_accuracy: 0.8993 - val_auc_3: 0.9961\n",
      "Epoch 22/30\n",
      "1876/1876 [==============================] - 52s 28ms/step - loss: 0.0627 - accuracy: 0.8497 - auc_3: 0.9839 - val_loss: 0.0365 - val_accuracy: 0.8955 - val_auc_3: 0.9971\n",
      "Epoch 23/30\n",
      "1876/1876 [==============================] - 44s 24ms/step - loss: 0.0600 - accuracy: 0.8577 - auc_3: 0.9847 - val_loss: 0.0318 - val_accuracy: 0.9216 - val_auc_3: 0.9933\n",
      "Epoch 24/30\n",
      "1876/1876 [==============================] - 48s 26ms/step - loss: 0.0540 - accuracy: 0.8625 - auc_3: 0.9877 - val_loss: 0.0331 - val_accuracy: 0.8993 - val_auc_3: 0.9958\n",
      "Epoch 25/30\n",
      "1876/1876 [==============================] - 53s 28ms/step - loss: 0.0547 - accuracy: 0.8731 - auc_3: 0.9852 - val_loss: 0.0232 - val_accuracy: 0.9403 - val_auc_3: 0.9985\n",
      "Epoch 26/30\n",
      "1876/1876 [==============================] - 44s 23ms/step - loss: 0.0482 - accuracy: 0.8875 - auc_3: 0.9877 - val_loss: 0.0251 - val_accuracy: 0.9291 - val_auc_3: 0.9966\n",
      "Epoch 27/30\n",
      "1876/1876 [==============================] - 51s 27ms/step - loss: 0.0503 - accuracy: 0.8827 - auc_3: 0.9872 - val_loss: 0.0354 - val_accuracy: 0.9067 - val_auc_3: 0.9921\n",
      "Epoch 28/30\n",
      "1876/1876 [==============================] - 50s 26ms/step - loss: 0.0450 - accuracy: 0.8971 - auc_3: 0.9888 - val_loss: 0.0252 - val_accuracy: 0.9254 - val_auc_3: 0.9971\n",
      "Epoch 29/30\n",
      "1876/1876 [==============================] - 43s 23ms/step - loss: 0.0433 - accuracy: 0.8977 - auc_3: 0.9906 - val_loss: 0.0268 - val_accuracy: 0.9291 - val_auc_3: 0.9932\n",
      "Epoch 30/30\n",
      "1876/1876 [==============================] - 51s 27ms/step - loss: 0.0424 - accuracy: 0.9057 - auc_3: 0.9904 - val_loss: 0.0184 - val_accuracy: 0.9515 - val_auc_3: 0.9976\n"
     ]
    }
   ],
   "source": [
    "with tf.device('/GPU:0'):\n",
    "    history2 = model2.fit(train_vec, epochs = 30, validation_data = val_vec)"
   ]
  },
  {
   "cell_type": "code",
   "execution_count": 103,
   "id": "e156cd40",
   "metadata": {
    "scrolled": true
   },
   "outputs": [
    {
     "data": {
      "text/plain": [
       "<matplotlib.legend.Legend at 0x161a0009df0>"
      ]
     },
     "execution_count": 103,
     "metadata": {},
     "output_type": "execute_result"
    },
    {
     "data": {
      "image/png": "[encoded data removed]",
      "text/plain": [
       "<Figure size 432x288 with 1 Axes>"
      ]
     },
     "metadata": {
      "needs_background": "light"
     },
     "output_type": "display_data"
    }
   ],
   "source": [
    "from matplotlib import pyplot as plt\n",
    "plt.plot(history2.history[\"accuracy\"], label = \"training\")\n",
    "plt.plot(history2.history[\"val_accuracy\"], label = \"validation\")\n",
    "plt.gca().set(xlabel = \"epoch\", ylabel = \"accuracy\")\n",
    "plt.legend()"
   ]
  },
  {
   "cell_type": "code",
   "execution_count": 104,
   "id": "eb69ef74",
   "metadata": {
    "scrolled": true
   },
   "outputs": [
    {
     "name": "stdout",
     "output_type": "stream",
     "text": [
      "537/537 [==============================] - 6s 10ms/step - loss: 0.0208 - accuracy: 0.9330 - auc_3: 0.9972\n"
     ]
    },
    {
     "data": {
      "text/plain": [
       "[0.02082742750644684, 0.9329608678817749, 0.9971862435340881]"
      ]
     },
     "execution_count": 104,
     "metadata": {},
     "output_type": "execute_result"
    }
   ],
   "source": [
    "model2.evaluate(test_vec)"
   ]
  },
  {
   "cell_type": "code",
   "execution_count": 105,
   "id": "f6610fa4",
   "metadata": {},
   "outputs": [
    {
     "name": "stdout",
     "output_type": "stream",
     "text": [
      "537/537 [==============================] - 5s 8ms/step\n"
     ]
    }
   ],
   "source": [
    "a = model2.predict(test_vec)"
   ]
  },
  {
   "cell_type": "code",
   "execution_count": 106,
   "id": "5018fc90",
   "metadata": {
    "scrolled": true
   },
   "outputs": [
    {
     "data": {
      "text/plain": [
       "array([1., 0., 0., 0., 0., 0., 0., 0., 0., 0., 0., 0., 0., 0., 0., 0.],\n",
       "      dtype=float32)"
      ]
     },
     "execution_count": 106,
     "metadata": {},
     "output_type": "execute_result"
    }
   ],
   "source": [
    "np.round(a[1])"
   ]
  },
  {
   "cell_type": "code",
   "execution_count": 107,
   "id": "38984e55",
   "metadata": {},
   "outputs": [
    {
     "data": {
      "text/plain": [
       "array(['1', '10', '11', '12', '13', '14', '15', '16', '2', '3', '4', '5',\n",
       "       '6', '7', '8', '9'], dtype=object)"
      ]
     },
     "execution_count": 107,
     "metadata": {},
     "output_type": "execute_result"
    }
   ],
   "source": [
    "mlb.classes_"
   ]
  },
  {
   "cell_type": "code",
   "execution_count": 110,
   "id": "b48fea6a",
   "metadata": {},
   "outputs": [],
   "source": [
    "# !mkdir -p saved_model\n",
    "model2.save('saved_model/classfication_model_multi_label.h5')\n"
   ]
  },
  {
   "cell_type": "code",
   "execution_count": 19,
   "id": "4ee32eef",
   "metadata": {},
   "outputs": [],
   "source": [
    "new_model = tf.keras.models.load_model('saved_model/classfication_model_multi_label.h5')"
   ]
  },
  {
   "cell_type": "code",
   "execution_count": 20,
   "id": "a7374bb4",
   "metadata": {},
   "outputs": [],
   "source": [
    "keys = dict(zip(range(16), [int(i) for i in ['1', '10', '11', '12', '13', '14', '15', '16', '2', '3', '4', '5',\n",
    "       '6', '7', '8', '9']]))\n",
    "\n",
    "def idx_to_label(arr):\n",
    "    return [[keys[i] for i in range(16) if j[i] == 1] for j in arr]\n",
    "\n",
    "def predict(x):\n",
    "    \"\"\"\n",
    "    predict labels\n",
    "    @params x: 1d or 2d array or list\n",
    "    @return labels in a 2d array\n",
    "    \"\"\"\n",
    "    x = np.array(x).reshape(-1,)\n",
    "    x = np.array(list(map(clean, x)))\n",
    "    x = tf.expand_dims(x, -1)\n",
    "    return idx_to_label(np.round(new_model.predict(vectorize_layer(x))))  \n"
   ]
  },
  {
   "cell_type": "code",
   "execution_count": 21,
   "id": "ed5b248a",
   "metadata": {},
   "outputs": [
    {
     "name": "stdout",
     "output_type": "stream",
     "text": [
      "1/1 [==============================] - 7s 7s/step\n"
     ]
    },
    {
     "data": {
      "text/plain": [
       "[[], [15]]"
      ]
     },
     "execution_count": 21,
     "metadata": {},
     "output_type": "execute_result"
    }
   ],
   "source": [
    "predict(np.array([\"he\", 'black lives matter']))"
   ]
  },
  {
   "cell_type": "code",
   "execution_count": 22,
   "id": "8270e60d",
   "metadata": {},
   "outputs": [
    {
     "name": "stdout",
     "output_type": "stream",
     "text": [
      "1/1 [==============================] - 0s 75ms/step\n"
     ]
    },
    {
     "data": {
      "text/plain": [
       "[[], [15]]"
      ]
     },
     "execution_count": 22,
     "metadata": {},
     "output_type": "execute_result"
    }
   ],
   "source": [
    "predict(np.array([[\"he\"], ['black lives matter']]))"
   ]
  },
  {
   "cell_type": "code",
   "execution_count": null,
   "id": "0717a914",
   "metadata": {},
   "outputs": [],
   "source": []
  }
 ],
 "metadata": {
  "kernelspec": {
   "display_name": "Python 3 (ipykernel)",
   "language": "python",
   "name": "python3"
  },
  "language_info": {
   "codemirror_mode": {
    "name": "ipython",
    "version": 3
   },
   "file_extension": ".py",
   "mimetype": "text/x-python",
   "name": "python",
   "nbconvert_exporter": "python",
   "pygments_lexer": "ipython3",
   "version": "3.9.12"
  },
  "toc": {
   "base_numbering": 1,
   "nav_menu": {},
   "number_sections": false,
   "sideBar": true,
   "skip_h1_title": false,
   "title_cell": "Table of Contents",
   "title_sidebar": "Contents",
   "toc_cell": false,
   "toc_position": {},
   "toc_section_display": true,
   "toc_window_display": false
  }
 },
 "nbformat": 4,
 "nbformat_minor": 5
}
