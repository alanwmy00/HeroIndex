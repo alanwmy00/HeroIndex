{
 "cells": [
  {
   "cell_type": "code",
   "execution_count": 3,
   "id": "4b4d4528",
   "metadata": {},
   "outputs": [],
   "source": [
    "import pandas as pd\n",
    "import numpy as np\n",
    "from sklearn.model_selection import train_test_split\n",
    "from sklearn.feature_extraction.text import TfidfVectorizer"
   ]
  },
  {
   "cell_type": "code",
   "execution_count": 4,
   "id": "17ee93dc",
   "metadata": {
    "scrolled": true
   },
   "outputs": [
    {
     "data": {
      "text/html": [
       "<div>\n",
       "<style scoped>\n",
       "    .dataframe tbody tr th:only-of-type {\n",
       "        vertical-align: middle;\n",
       "    }\n",
       "\n",
       "    .dataframe tbody tr th {\n",
       "        vertical-align: top;\n",
       "    }\n",
       "\n",
       "    .dataframe thead th {\n",
       "        text-align: right;\n",
       "    }\n",
       "</style>\n",
       "<table border=\"1\" class=\"dataframe\">\n",
       "  <thead>\n",
       "    <tr style=\"text-align: right;\">\n",
       "      <th></th>\n",
       "      <th>id</th>\n",
       "      <th>created_at</th>\n",
       "      <th>updated_at</th>\n",
       "      <th>key_terms</th>\n",
       "      <th>companies</th>\n",
       "      <th>source_id</th>\n",
       "      <th>source_name</th>\n",
       "      <th>source_domain</th>\n",
       "      <th>source_url</th>\n",
       "      <th>title</th>\n",
       "      <th>description</th>\n",
       "      <th>author</th>\n",
       "      <th>published_at</th>\n",
       "      <th>url</th>\n",
       "      <th>image_url</th>\n",
       "      <th>text</th>\n",
       "      <th>summary</th>\n",
       "      <th>text_sentiment</th>\n",
       "      <th>title_sentiment</th>\n",
       "    </tr>\n",
       "  </thead>\n",
       "  <tbody>\n",
       "    <tr>\n",
       "      <th>0</th>\n",
       "      <td>1194</td>\n",
       "      <td>2021-06-18 12:12:45</td>\n",
       "      <td>2021-06-18 12:12:46</td>\n",
       "      <td>5</td>\n",
       "      <td>188</td>\n",
       "      <td>NaN</td>\n",
       "      <td>thecsrjournal</td>\n",
       "      <td>thecsrjournal.in</td>\n",
       "      <td>https://thecsrjournal.in</td>\n",
       "      <td>FedEx Commits to Carbon-Neutral Operations by ...</td>\n",
       "      <td>FedEx Commits to Carbon-Neutral Operations by ...</td>\n",
       "      <td>The Csr Journal</td>\n",
       "      <td>2021-03-13 08:23:09</td>\n",
       "      <td>https://thecsrjournal.in/fedex-carbon-neutral-...</td>\n",
       "      <td>https://gnewsapi.net/redirect-news-image/289b1...</td>\n",
       "      <td>FedEx Commits to Carbon-Neutral Operations by ...</td>\n",
       "      <td>NaN</td>\n",
       "      <td>NaN</td>\n",
       "      <td>-0.981564</td>\n",
       "    </tr>\n",
       "    <tr>\n",
       "      <th>1</th>\n",
       "      <td>1709</td>\n",
       "      <td>2021-06-18 12:12:45</td>\n",
       "      <td>2021-06-18 12:12:46</td>\n",
       "      <td>15</td>\n",
       "      <td>206</td>\n",
       "      <td>NaN</td>\n",
       "      <td>KIRO Seattle</td>\n",
       "      <td>www.kiro7.com</td>\n",
       "      <td>https://www.kiro7.com</td>\n",
       "      <td>Black scholar: It's time France confronts its ...</td>\n",
       "      <td>Black scholar: It's time France confronts its ...</td>\n",
       "      <td>Sylvie Corbet Jared Leone Cox Media Group Nati...</td>\n",
       "      <td>2021-03-13 07:57:57</td>\n",
       "      <td>https://www.kiro7.com/entertainment/black-scho...</td>\n",
       "      <td>https://gnewsapi.net/redirect-news-image/37062...</td>\n",
       "      <td>“I know many French people would say that slav...</td>\n",
       "      <td>NaN</td>\n",
       "      <td>NaN</td>\n",
       "      <td>0.816899</td>\n",
       "    </tr>\n",
       "    <tr>\n",
       "      <th>2</th>\n",
       "      <td>1949</td>\n",
       "      <td>2021-06-18 12:12:45</td>\n",
       "      <td>2021-06-18 12:12:46</td>\n",
       "      <td>5</td>\n",
       "      <td>31</td>\n",
       "      <td>NaN</td>\n",
       "      <td>Gulf News</td>\n",
       "      <td>gulfnews.com</td>\n",
       "      <td>https://gulfnews.com</td>\n",
       "      <td>Network International is optimistic on region'...</td>\n",
       "      <td>Network International is optimistic on region'...</td>\n",
       "      <td>NaN</td>\n",
       "      <td>2021-03-13 06:54:33</td>\n",
       "      <td>https://gulfnews.com/business/banking/network-...</td>\n",
       "      <td>https://gnewsapi.net/redirect-news-image/888d3...</td>\n",
       "      <td>Network International, the UAE’s home-grown in...</td>\n",
       "      <td>NaN</td>\n",
       "      <td>NaN</td>\n",
       "      <td>0.969982</td>\n",
       "    </tr>\n",
       "    <tr>\n",
       "      <th>3</th>\n",
       "      <td>1547</td>\n",
       "      <td>2021-06-18 12:12:45</td>\n",
       "      <td>2021-06-18 12:12:46</td>\n",
       "      <td>4</td>\n",
       "      <td>206</td>\n",
       "      <td>NaN</td>\n",
       "      <td>Yahoo News Canada</td>\n",
       "      <td>ca.news.yahoo.com</td>\n",
       "      <td>https://ca.news.yahoo.com</td>\n",
       "      <td>No winning ticket for Friday night's $44.8 mil...</td>\n",
       "      <td>No winning ticket for Friday night's $44.8 mil...</td>\n",
       "      <td>NaN</td>\n",
       "      <td>2021-03-13 06:11:38</td>\n",
       "      <td>https://ca.news.yahoo.com/no-winning-ticket-fr...</td>\n",
       "      <td>https://gnewsapi.net/redirect-news-image/e439c...</td>\n",
       "      <td>CBC\\r\\n\\r\\nPrime Minister Justin Trudeau said ...</td>\n",
       "      <td>NaN</td>\n",
       "      <td>NaN</td>\n",
       "      <td>-0.998206</td>\n",
       "    </tr>\n",
       "    <tr>\n",
       "      <th>4</th>\n",
       "      <td>2316</td>\n",
       "      <td>2021-06-18 12:12:45</td>\n",
       "      <td>2021-06-18 12:12:46</td>\n",
       "      <td>8</td>\n",
       "      <td>421</td>\n",
       "      <td>NaN</td>\n",
       "      <td>The Robesonian</td>\n",
       "      <td>www.robesonian.com</td>\n",
       "      <td>https://www.robesonian.com</td>\n",
       "      <td>UNCP's virtual Women's Empowerment Summit is F...</td>\n",
       "      <td>UNCP's virtual Women's Empowerment Summit is F...</td>\n",
       "      <td>NaN</td>\n",
       "      <td>2021-03-13 04:49:00</td>\n",
       "      <td>https://www.robesonian.com/uncategorized/14356...</td>\n",
       "      <td>https://gnewsapi.net/redirect-news-image/9feaa...</td>\n",
       "      <td>PEMBROKE — The CARE Resource Center at The Uni...</td>\n",
       "      <td>NaN</td>\n",
       "      <td>NaN</td>\n",
       "      <td>0.904579</td>\n",
       "    </tr>\n",
       "  </tbody>\n",
       "</table>\n",
       "</div>"
      ],
      "text/plain": [
       "     id           created_at           updated_at key_terms companies  \\\n",
       "0  1194  2021-06-18 12:12:45  2021-06-18 12:12:46         5       188   \n",
       "1  1709  2021-06-18 12:12:45  2021-06-18 12:12:46        15       206   \n",
       "2  1949  2021-06-18 12:12:45  2021-06-18 12:12:46         5        31   \n",
       "3  1547  2021-06-18 12:12:45  2021-06-18 12:12:46         4       206   \n",
       "4  2316  2021-06-18 12:12:45  2021-06-18 12:12:46         8       421   \n",
       "\n",
       "   source_id        source_name       source_domain  \\\n",
       "0        NaN      thecsrjournal    thecsrjournal.in   \n",
       "1        NaN       KIRO Seattle       www.kiro7.com   \n",
       "2        NaN          Gulf News        gulfnews.com   \n",
       "3        NaN  Yahoo News Canada   ca.news.yahoo.com   \n",
       "4        NaN     The Robesonian  www.robesonian.com   \n",
       "\n",
       "                   source_url  \\\n",
       "0    https://thecsrjournal.in   \n",
       "1       https://www.kiro7.com   \n",
       "2        https://gulfnews.com   \n",
       "3   https://ca.news.yahoo.com   \n",
       "4  https://www.robesonian.com   \n",
       "\n",
       "                                               title  \\\n",
       "0  FedEx Commits to Carbon-Neutral Operations by ...   \n",
       "1  Black scholar: It's time France confronts its ...   \n",
       "2  Network International is optimistic on region'...   \n",
       "3  No winning ticket for Friday night's $44.8 mil...   \n",
       "4  UNCP's virtual Women's Empowerment Summit is F...   \n",
       "\n",
       "                                         description  \\\n",
       "0  FedEx Commits to Carbon-Neutral Operations by ...   \n",
       "1  Black scholar: It's time France confronts its ...   \n",
       "2  Network International is optimistic on region'...   \n",
       "3  No winning ticket for Friday night's $44.8 mil...   \n",
       "4  UNCP's virtual Women's Empowerment Summit is F...   \n",
       "\n",
       "                                              author         published_at  \\\n",
       "0                                    The Csr Journal  2021-03-13 08:23:09   \n",
       "1  Sylvie Corbet Jared Leone Cox Media Group Nati...  2021-03-13 07:57:57   \n",
       "2                                                NaN  2021-03-13 06:54:33   \n",
       "3                                                NaN  2021-03-13 06:11:38   \n",
       "4                                                NaN  2021-03-13 04:49:00   \n",
       "\n",
       "                                                 url  \\\n",
       "0  https://thecsrjournal.in/fedex-carbon-neutral-...   \n",
       "1  https://www.kiro7.com/entertainment/black-scho...   \n",
       "2  https://gulfnews.com/business/banking/network-...   \n",
       "3  https://ca.news.yahoo.com/no-winning-ticket-fr...   \n",
       "4  https://www.robesonian.com/uncategorized/14356...   \n",
       "\n",
       "                                           image_url  \\\n",
       "0  https://gnewsapi.net/redirect-news-image/289b1...   \n",
       "1  https://gnewsapi.net/redirect-news-image/37062...   \n",
       "2  https://gnewsapi.net/redirect-news-image/888d3...   \n",
       "3  https://gnewsapi.net/redirect-news-image/e439c...   \n",
       "4  https://gnewsapi.net/redirect-news-image/9feaa...   \n",
       "\n",
       "                                                text  summary  text_sentiment  \\\n",
       "0  FedEx Commits to Carbon-Neutral Operations by ...      NaN             NaN   \n",
       "1  “I know many French people would say that slav...      NaN             NaN   \n",
       "2  Network International, the UAE’s home-grown in...      NaN             NaN   \n",
       "3  CBC\\r\\n\\r\\nPrime Minister Justin Trudeau said ...      NaN             NaN   \n",
       "4  PEMBROKE — The CARE Resource Center at The Uni...      NaN             NaN   \n",
       "\n",
       "   title_sentiment  \n",
       "0        -0.981564  \n",
       "1         0.816899  \n",
       "2         0.969982  \n",
       "3        -0.998206  \n",
       "4         0.904579  "
      ]
     },
     "execution_count": 4,
     "metadata": {},
     "output_type": "execute_result"
    }
   ],
   "source": [
    "articles = pd.read_csv(\"Article-2022-05-08.csv\")\n",
    "articles.head()"
   ]
  },
  {
   "cell_type": "code",
   "execution_count": 5,
   "id": "9ee702f7",
   "metadata": {
    "scrolled": true
   },
   "outputs": [
    {
     "data": {
      "text/plain": [
       "array(['5', '15', '4', '8', '9', '10,15', '14', '1', '2', '6', '10', '3',\n",
       "       '1,5,15', '1,6', '5,8,15', '16', '3,15', '1,2', '11', '1,14',\n",
       "       '5,8', '8,9', '2,9', '9,15', '2,8', '13', '2,10', '2,6', '5,9',\n",
       "       '1,5', '5,15', '1,15', '2,5', '9,14', '5,9,15', '1,8', '8,15',\n",
       "       '14,15', '9,10', '2,6,11', '2,11', '10,14', '2,15', '5,6', '1,9',\n",
       "       '1,3', '2,9,10', '3,11,15', '10,11', '3,8', '3,5', '12', '1,3,15',\n",
       "       '1,9,15', '3,9', '3,8,10,15', '8,14', '9,13', '4,8', '2,3,5',\n",
       "       '3,8,15', '1,10', '1,3,8,15', '8,9,15', '8,10', '2,8,9', '1,8,15',\n",
       "       '7', '3,10', '6,14', '6,15', '1,2,15', '2,3,8'], dtype=object)"
      ]
     },
     "execution_count": 5,
     "metadata": {},
     "output_type": "execute_result"
    }
   ],
   "source": [
    "articles.key_terms.unique()"
   ]
  },
  {
   "cell_type": "code",
   "execution_count": 6,
   "id": "47ab4e4c",
   "metadata": {},
   "outputs": [
    {
     "data": {
      "text/plain": [
       "(2681, 19)"
      ]
     },
     "execution_count": 6,
     "metadata": {},
     "output_type": "execute_result"
    }
   ],
   "source": [
    "articles.shape"
   ]
  },
  {
   "cell_type": "code",
   "execution_count": 7,
   "id": "657a978c",
   "metadata": {},
   "outputs": [
    {
     "name": "stderr",
     "output_type": "stream",
     "text": [
      "[nltk_data] Downloading package stopwords to\n",
      "[nltk_data]     C:\\Users\\wmy\\AppData\\Roaming\\nltk_data...\n",
      "[nltk_data]   Package stopwords is already up-to-date!\n"
     ]
    }
   ],
   "source": [
    "import nltk\n",
    "from nltk.corpus import stopwords\n",
    "from string import punctuation\n",
    "import re\n",
    "nltk.download('stopwords')\n",
    "stops = set(stopwords.words('english'))\n",
    "stops.add(\"'s\")\n",
    "\n",
    "def clean(sentence):\n",
    "    # delete stopwords\n",
    "    temp = \" \".join(filter(lambda x: x not in stops, sentence.split()))\n",
    "    # Remove punctuation\n",
    "    temp = temp.translate(str.maketrans('', '', punctuation))\n",
    "    # Delete short words with 3 or less characters\n",
    "    temp = (lambda x: ' '.join([w for w in x.split() if len(w) > 3]))(temp)\n",
    "    # Change all to lower case\n",
    "    temp = temp.lower()\n",
    "    # Delete numbers\n",
    "    temp = re.sub(r'[0-9]', \"\", temp)\n",
    "    # Delete excessive spaces and return\n",
    "    return re.sub(\"  \", \" \", temp)"
   ]
  },
  {
   "cell_type": "code",
   "execution_count": 79,
   "id": "6348c616",
   "metadata": {},
   "outputs": [
    {
     "data": {
      "text/plain": [
       "('Women leaders you should know and the causes they champion - WYFF Greenville',\n",
       " 'Women leaders you should know and the causes they champion  WYFF Greenville')"
      ]
     },
     "execution_count": 79,
     "metadata": {},
     "output_type": "execute_result"
    }
   ],
   "source": [
    "a = articles[articles.text.apply(lambda x: x is np.nan)].iloc[51]\n",
    "a[\"title\"], a[\"description\"]"
   ]
  },
  {
   "cell_type": "code",
   "execution_count": 69,
   "id": "171b0a1b",
   "metadata": {},
   "outputs": [
    {
     "data": {
      "text/plain": [
       "id                                                              1228\n",
       "created_at                                       2021-06-18 12:12:45\n",
       "updated_at                                       2021-06-18 12:12:46\n",
       "key_terms                                                     5,8,15\n",
       "companies                                                     31,188\n",
       "source_id                                                        NaN\n",
       "source_name                                        Wednesday Journal\n",
       "source_domain                                        www.oakpark.com\n",
       "source_url                                   https://www.oakpark.com\n",
       "title                    Print Edition: March 10 - Wednesday Journal\n",
       "description               Print Edition: March 10  Wednesday Journal\n",
       "author                                                           NaN\n",
       "published_at                                     2021-03-12 15:56:12\n",
       "url                https://www.oakpark.com/2021/03/12/print-editi...\n",
       "image_url          https://gnewsapi.net/redirect-news-image/9aa42...\n",
       "text               Are you interested in receiving the physical c...\n",
       "summary                                                          NaN\n",
       "text_sentiment                                                   NaN\n",
       "title_sentiment                                             0.513945\n",
       "Name: 54, dtype: object"
      ]
     },
     "execution_count": 69,
     "metadata": {},
     "output_type": "execute_result"
    }
   ],
   "source": [
    "articles[articles.key_terms.apply(lambda x: \",\" in x)].loc[54]"
   ]
  },
  {
   "cell_type": "code",
   "execution_count": 8,
   "id": "a5fb73d0",
   "metadata": {},
   "outputs": [],
   "source": [
    "articles_single = articles[articles.key_terms.apply(lambda x: \",\" not in x)]\n",
    "articles_single = articles_single[articles_single.text.apply(lambda x: x is not np.nan)]\n",
    "articles_single[\"text\"] = articles_single[\"text\"].apply(clean)"
   ]
  },
  {
   "cell_type": "code",
   "execution_count": 9,
   "id": "fafaa806",
   "metadata": {},
   "outputs": [],
   "source": [
    "X = articles_single.text\n",
    "y = articles_single.key_terms\n",
    "X_train, X_test, y_train, y_test = train_test_split(X, y,test_size=0.2)"
   ]
  },
  {
   "cell_type": "code",
   "execution_count": 10,
   "id": "7fb08c96",
   "metadata": {},
   "outputs": [],
   "source": [
    "from sklearn.pipeline import Pipeline\n",
    "from sklearn.model_selection import GridSearchCV\n",
    "from sklearn.ensemble import RandomForestClassifier"
   ]
  },
  {
   "cell_type": "code",
   "execution_count": 11,
   "id": "47a4d025",
   "metadata": {},
   "outputs": [],
   "source": [
    "pl = Pipeline(([('tfidf', TfidfVectorizer()), ('rfc', RandomForestClassifier())]))"
   ]
  },
  {
   "cell_type": "code",
   "execution_count": 12,
   "id": "c026551e",
   "metadata": {},
   "outputs": [],
   "source": [
    "params = {'rfc__max_depth':[7, 10, 13, 15, 18, None]}"
   ]
  },
  {
   "cell_type": "code",
   "execution_count": 13,
   "id": "6866bc0e",
   "metadata": {},
   "outputs": [
    {
     "name": "stderr",
     "output_type": "stream",
     "text": [
      "\n",
      "KeyboardInterrupt\n",
      "\n"
     ]
    }
   ],
   "source": [
    "grids = GridSearchCV(pl, params, cv=2)\n",
    "grids.fit(X_train, y_train)"
   ]
  },
  {
   "cell_type": "code",
   "execution_count": null,
   "id": "6f08385c",
   "metadata": {},
   "outputs": [],
   "source": [
    "grids.best_params_"
   ]
  },
  {
   "cell_type": "code",
   "execution_count": 103,
   "id": "784206fa",
   "metadata": {},
   "outputs": [
    {
     "data": {
      "text/plain": [
       "nan"
      ]
     },
     "execution_count": 103,
     "metadata": {},
     "output_type": "execute_result"
    }
   ],
   "source": [
    "grids.best_score_"
   ]
  },
  {
   "cell_type": "code",
   "execution_count": 97,
   "id": "e4c4f294",
   "metadata": {},
   "outputs": [
    {
     "data": {
      "text/plain": [
       "0.46547884187082406"
      ]
     },
     "execution_count": 97,
     "metadata": {},
     "output_type": "execute_result"
    }
   ],
   "source": [
    "grids.best_estimator_.score(X_test, y_test)"
   ]
  },
  {
   "cell_type": "code",
   "execution_count": 14,
   "id": "a1cb2b60",
   "metadata": {},
   "outputs": [],
   "source": [
    "X_train = np.array(X_train)\n",
    "y_train = np.array(y_train)"
   ]
  },
  {
   "cell_type": "code",
   "execution_count": 26,
   "id": "b1df89fe",
   "metadata": {},
   "outputs": [],
   "source": [
    "import numpy as np\n",
    "\n",
    "import tensorflow_datasets as tfds\n",
    "import tensorflow as tf\n",
    "import numpy as np\n",
    "\n",
    "import tensorflow_datasets as tfds\n",
    "import tensorflow as tf\n",
    "from keras.models import Model\n",
    "from keras.models import Sequential\n",
    "from keras.preprocessing import sequence\n",
    "from keras.layers import Input\n",
    "from keras.layers import Dense, Activation\n",
    "from keras.layers import Embedding\n",
    "from keras.layers import Conv1D, GlobalMaxPooling1D\n",
    "from keras.models import Sequential\n",
    "from keras import layers\n",
    "from keras import regularizers\n",
    "from keras import backend as K\n",
    "from keras.callbacks import ModelCheckpoint\n",
    "from keras.layers import Dropout"
   ]
  },
  {
   "cell_type": "code",
   "execution_count": 32,
   "id": "5606a395",
   "metadata": {},
   "outputs": [],
   "source": [
    "from collections import defaultdict\n",
    "def vocab(lst):\n",
    "#     cleaned = clean_all(lst)\n",
    "    counter = defaultdict(int)\n",
    "    for sentence in lst:\n",
    "        for word in sentence.split():\n",
    "            counter[word] += 1\n",
    "    return dict(sorted(counter.items(), key=lambda item: item[1], reverse=True))\n",
    "\n",
    "vocabulary = vocab(X_train)"
   ]
  },
  {
   "cell_type": "code",
   "execution_count": 35,
   "id": "986da87a",
   "metadata": {},
   "outputs": [],
   "source": [
    "VOCAB_SIZE = 1000\n",
    "encoder = tf.keras.layers.TextVectorization(\n",
    "    max_tokens=VOCAB_SIZE)\n",
    "encoder.adapt(X_train)\n"
   ]
  },
  {
   "cell_type": "code",
   "execution_count": 48,
   "id": "b6707dfb",
   "metadata": {},
   "outputs": [],
   "source": [
    "model = tf.keras.Sequential([\n",
    "    encoder,\n",
    "    tf.keras.layers.Embedding(\n",
    "        input_dim=len(encoder.get_vocabulary()),\n",
    "        output_dim=64,\n",
    "        # Use masking to handle the variable sequence lengths\n",
    "        mask_zero=True),\n",
    "    tf.keras.layers.Bidirectional(tf.keras.layers.LSTM(64)),\n",
    "    tf.keras.layers.Dense(64, activation='relu'),\n",
    "#     tf.keras.layers.Dense(1)\n",
    "])\n"
   ]
  },
  {
   "cell_type": "code",
   "execution_count": 49,
   "id": "c6722fe3",
   "metadata": {},
   "outputs": [
    {
     "name": "stdout",
     "output_type": "stream",
     "text": [
      "[0.00624372 0.         0.         0.02393346 0.02515804 0.\n",
      " 0.01576139 0.00902959 0.01131108 0.         0.00582905 0.04554617\n",
      " 0.0162886  0.01023244 0.         0.         0.         0.00786664\n",
      " 0.         0.         0.         0.00362714 0.03277574 0.02215757\n",
      " 0.01238548 0.00891692 0.         0.01748094 0.03034226 0.\n",
      " 0.00043264 0.00733953 0.0368245  0.03784372 0.00931284 0.00515499\n",
      " 0.         0.02305879 0.         0.         0.         0.01126517\n",
      " 0.         0.00331726 0.         0.01080919 0.00964197 0.\n",
      " 0.02725033 0.         0.02490073 0.         0.         0.\n",
      " 0.00120847 0.         0.         0.         0.00090584 0.00642612\n",
      " 0.00969276 0.00256759 0.00594555 0.01474182]\n"
     ]
    }
   ],
   "source": [
    "sample_text = ('The movie was cool. The animation and the graphics '\n",
    "               'were out of this world. I would recommend this movie.')\n",
    "predictions = model.predict(np.array([sample_text]))\n",
    "print(predictions[0])\n"
   ]
  },
  {
   "cell_type": "code",
   "execution_count": 50,
   "id": "c5355bae",
   "metadata": {},
   "outputs": [],
   "source": [
    "model.compile(loss=tf.keras.losses.BinaryCrossentropy(from_logits=True),\n",
    "              optimizer=tf.keras.optimizers.Adam(1e-4),\n",
    "              metrics=['accuracy'])\n"
   ]
  },
  {
   "cell_type": "code",
   "execution_count": 51,
   "id": "f23efebe",
   "metadata": {},
   "outputs": [
    {
     "name": "stdout",
     "output_type": "stream",
     "text": [
      "Epoch 1/10\n"
     ]
    },
    {
     "ename": "ValueError",
     "evalue": "in user code:\n\n    File \"C:\\Users\\wmy\\AppData\\Local\\Programs\\Python\\Python39\\lib\\site-packages\\keras\\engine\\training.py\", line 1021, in train_function  *\n        return step_function(self, iterator)\n    File \"C:\\Users\\wmy\\AppData\\Local\\Programs\\Python\\Python39\\lib\\site-packages\\keras\\engine\\training.py\", line 1010, in step_function  **\n        outputs = model.distribute_strategy.run(run_step, args=(data,))\n    File \"C:\\Users\\wmy\\AppData\\Local\\Programs\\Python\\Python39\\lib\\site-packages\\keras\\engine\\training.py\", line 1000, in run_step  **\n        outputs = model.train_step(data)\n    File \"C:\\Users\\wmy\\AppData\\Local\\Programs\\Python\\Python39\\lib\\site-packages\\keras\\engine\\training.py\", line 860, in train_step\n        loss = self.compute_loss(x, y, y_pred, sample_weight)\n    File \"C:\\Users\\wmy\\AppData\\Local\\Programs\\Python\\Python39\\lib\\site-packages\\keras\\engine\\training.py\", line 918, in compute_loss\n        return self.compiled_loss(\n    File \"C:\\Users\\wmy\\AppData\\Local\\Programs\\Python\\Python39\\lib\\site-packages\\keras\\engine\\compile_utils.py\", line 201, in __call__\n        loss_value = loss_obj(y_t, y_p, sample_weight=sw)\n    File \"C:\\Users\\wmy\\AppData\\Local\\Programs\\Python\\Python39\\lib\\site-packages\\keras\\losses.py\", line 141, in __call__\n        losses = call_fn(y_true, y_pred)\n    File \"C:\\Users\\wmy\\AppData\\Local\\Programs\\Python\\Python39\\lib\\site-packages\\keras\\losses.py\", line 245, in call  **\n        return ag_fn(y_true, y_pred, **self._fn_kwargs)\n    File \"C:\\Users\\wmy\\AppData\\Local\\Programs\\Python\\Python39\\lib\\site-packages\\keras\\losses.py\", line 1932, in binary_crossentropy\n        backend.binary_crossentropy(y_true, y_pred, from_logits=from_logits),\n    File \"C:\\Users\\wmy\\AppData\\Local\\Programs\\Python\\Python39\\lib\\site-packages\\keras\\backend.py\", line 5247, in binary_crossentropy\n        return tf.nn.sigmoid_cross_entropy_with_logits(labels=target, logits=output)\n\n    ValueError: `logits` and `labels` must have the same shape, received ((None, 64) vs (None, 1)).\n",
     "output_type": "error",
     "traceback": [
      "\u001b[1;31m---------------------------------------------------------------------------\u001b[0m",
      "\u001b[1;31mValueError\u001b[0m                                Traceback (most recent call last)",
      "Input \u001b[1;32mIn [51]\u001b[0m, in \u001b[0;36m<cell line: 1>\u001b[1;34m()\u001b[0m\n\u001b[1;32m----> 1\u001b[0m history \u001b[38;5;241m=\u001b[39m \u001b[43mmodel\u001b[49m\u001b[38;5;241;43m.\u001b[39;49m\u001b[43mfit\u001b[49m\u001b[43m(\u001b[49m\u001b[43mx_train\u001b[49m\u001b[43m,\u001b[49m\u001b[43m \u001b[49m\u001b[43my_train\u001b[49m\u001b[43m,\u001b[49m\u001b[43m \u001b[49m\u001b[43mepochs\u001b[49m\u001b[38;5;241;43m=\u001b[39;49m\u001b[38;5;241;43m10\u001b[39;49m\u001b[43m)\u001b[49m\n",
      "File \u001b[1;32m~\\AppData\\Local\\Programs\\Python\\Python39\\lib\\site-packages\\keras\\utils\\traceback_utils.py:67\u001b[0m, in \u001b[0;36mfilter_traceback.<locals>.error_handler\u001b[1;34m(*args, **kwargs)\u001b[0m\n\u001b[0;32m     65\u001b[0m \u001b[38;5;28;01mexcept\u001b[39;00m \u001b[38;5;167;01mException\u001b[39;00m \u001b[38;5;28;01mas\u001b[39;00m e:  \u001b[38;5;66;03m# pylint: disable=broad-except\u001b[39;00m\n\u001b[0;32m     66\u001b[0m   filtered_tb \u001b[38;5;241m=\u001b[39m _process_traceback_frames(e\u001b[38;5;241m.\u001b[39m__traceback__)\n\u001b[1;32m---> 67\u001b[0m   \u001b[38;5;28;01mraise\u001b[39;00m e\u001b[38;5;241m.\u001b[39mwith_traceback(filtered_tb) \u001b[38;5;28;01mfrom\u001b[39;00m \u001b[38;5;28mNone\u001b[39m\n\u001b[0;32m     68\u001b[0m \u001b[38;5;28;01mfinally\u001b[39;00m:\n\u001b[0;32m     69\u001b[0m   \u001b[38;5;28;01mdel\u001b[39;00m filtered_tb\n",
      "File \u001b[1;32m~\\AppData\\Local\\Programs\\Python\\Python39\\lib\\site-packages\\tensorflow\\python\\framework\\func_graph.py:1147\u001b[0m, in \u001b[0;36mfunc_graph_from_py_func.<locals>.autograph_handler\u001b[1;34m(*args, **kwargs)\u001b[0m\n\u001b[0;32m   1145\u001b[0m \u001b[38;5;28;01mexcept\u001b[39;00m \u001b[38;5;167;01mException\u001b[39;00m \u001b[38;5;28;01mas\u001b[39;00m e:  \u001b[38;5;66;03m# pylint:disable=broad-except\u001b[39;00m\n\u001b[0;32m   1146\u001b[0m   \u001b[38;5;28;01mif\u001b[39;00m \u001b[38;5;28mhasattr\u001b[39m(e, \u001b[38;5;124m\"\u001b[39m\u001b[38;5;124mag_error_metadata\u001b[39m\u001b[38;5;124m\"\u001b[39m):\n\u001b[1;32m-> 1147\u001b[0m     \u001b[38;5;28;01mraise\u001b[39;00m e\u001b[38;5;241m.\u001b[39mag_error_metadata\u001b[38;5;241m.\u001b[39mto_exception(e)\n\u001b[0;32m   1148\u001b[0m   \u001b[38;5;28;01melse\u001b[39;00m:\n\u001b[0;32m   1149\u001b[0m     \u001b[38;5;28;01mraise\u001b[39;00m\n",
      "\u001b[1;31mValueError\u001b[0m: in user code:\n\n    File \"C:\\Users\\wmy\\AppData\\Local\\Programs\\Python\\Python39\\lib\\site-packages\\keras\\engine\\training.py\", line 1021, in train_function  *\n        return step_function(self, iterator)\n    File \"C:\\Users\\wmy\\AppData\\Local\\Programs\\Python\\Python39\\lib\\site-packages\\keras\\engine\\training.py\", line 1010, in step_function  **\n        outputs = model.distribute_strategy.run(run_step, args=(data,))\n    File \"C:\\Users\\wmy\\AppData\\Local\\Programs\\Python\\Python39\\lib\\site-packages\\keras\\engine\\training.py\", line 1000, in run_step  **\n        outputs = model.train_step(data)\n    File \"C:\\Users\\wmy\\AppData\\Local\\Programs\\Python\\Python39\\lib\\site-packages\\keras\\engine\\training.py\", line 860, in train_step\n        loss = self.compute_loss(x, y, y_pred, sample_weight)\n    File \"C:\\Users\\wmy\\AppData\\Local\\Programs\\Python\\Python39\\lib\\site-packages\\keras\\engine\\training.py\", line 918, in compute_loss\n        return self.compiled_loss(\n    File \"C:\\Users\\wmy\\AppData\\Local\\Programs\\Python\\Python39\\lib\\site-packages\\keras\\engine\\compile_utils.py\", line 201, in __call__\n        loss_value = loss_obj(y_t, y_p, sample_weight=sw)\n    File \"C:\\Users\\wmy\\AppData\\Local\\Programs\\Python\\Python39\\lib\\site-packages\\keras\\losses.py\", line 141, in __call__\n        losses = call_fn(y_true, y_pred)\n    File \"C:\\Users\\wmy\\AppData\\Local\\Programs\\Python\\Python39\\lib\\site-packages\\keras\\losses.py\", line 245, in call  **\n        return ag_fn(y_true, y_pred, **self._fn_kwargs)\n    File \"C:\\Users\\wmy\\AppData\\Local\\Programs\\Python\\Python39\\lib\\site-packages\\keras\\losses.py\", line 1932, in binary_crossentropy\n        backend.binary_crossentropy(y_true, y_pred, from_logits=from_logits),\n    File \"C:\\Users\\wmy\\AppData\\Local\\Programs\\Python\\Python39\\lib\\site-packages\\keras\\backend.py\", line 5247, in binary_crossentropy\n        return tf.nn.sigmoid_cross_entropy_with_logits(labels=target, logits=output)\n\n    ValueError: `logits` and `labels` must have the same shape, received ((None, 64) vs (None, 1)).\n"
     ]
    }
   ],
   "source": [
    "history = model.fit(x_train, y_train, epochs=10)\n"
   ]
  },
  {
   "cell_type": "code",
   "execution_count": 62,
   "id": "93722cae",
   "metadata": {},
   "outputs": [
    {
     "data": {
      "text/plain": [
       "15"
      ]
     },
     "execution_count": 62,
     "metadata": {},
     "output_type": "execute_result"
    }
   ],
   "source": [
    "len(set(y_train.reshape(1,-1)[0]))"
   ]
  },
  {
   "cell_type": "code",
   "execution_count": 64,
   "id": "47232628",
   "metadata": {},
   "outputs": [
    {
     "name": "stdout",
     "output_type": "stream",
     "text": [
      "Epoch 1/10\n"
     ]
    },
    {
     "ename": "UnimplementedError",
     "evalue": "Graph execution error:\n\nDetected at node 'sequential_9/Cast' defined at (most recent call last):\n    File \"C:\\Users\\wmy\\AppData\\Local\\Programs\\Python\\Python39\\lib\\runpy.py\", line 197, in _run_module_as_main\n      return _run_code(code, main_globals, None,\n    File \"C:\\Users\\wmy\\AppData\\Local\\Programs\\Python\\Python39\\lib\\runpy.py\", line 87, in _run_code\n      exec(code, run_globals)\n    File \"C:\\Users\\wmy\\AppData\\Local\\Programs\\Python\\Python39\\lib\\site-packages\\ipykernel_launcher.py\", line 16, in <module>\n      app.launch_new_instance()\n    File \"C:\\Users\\wmy\\AppData\\Local\\Programs\\Python\\Python39\\lib\\site-packages\\traitlets\\config\\application.py\", line 846, in launch_instance\n      app.start()\n    File \"C:\\Users\\wmy\\AppData\\Local\\Programs\\Python\\Python39\\lib\\site-packages\\ipykernel\\kernelapp.py\", line 677, in start\n      self.io_loop.start()\n    File \"C:\\Users\\wmy\\AppData\\Local\\Programs\\Python\\Python39\\lib\\site-packages\\tornado\\platform\\asyncio.py\", line 199, in start\n      self.asyncio_loop.run_forever()\n    File \"C:\\Users\\wmy\\AppData\\Local\\Programs\\Python\\Python39\\lib\\asyncio\\base_events.py\", line 601, in run_forever\n      self._run_once()\n    File \"C:\\Users\\wmy\\AppData\\Local\\Programs\\Python\\Python39\\lib\\asyncio\\base_events.py\", line 1905, in _run_once\n      handle._run()\n    File \"C:\\Users\\wmy\\AppData\\Local\\Programs\\Python\\Python39\\lib\\asyncio\\events.py\", line 80, in _run\n      self._context.run(self._callback, *self._args)\n    File \"C:\\Users\\wmy\\AppData\\Local\\Programs\\Python\\Python39\\lib\\site-packages\\ipykernel\\kernelbase.py\", line 473, in dispatch_queue\n      await self.process_one()\n    File \"C:\\Users\\wmy\\AppData\\Local\\Programs\\Python\\Python39\\lib\\site-packages\\ipykernel\\kernelbase.py\", line 462, in process_one\n      await dispatch(*args)\n    File \"C:\\Users\\wmy\\AppData\\Local\\Programs\\Python\\Python39\\lib\\site-packages\\ipykernel\\kernelbase.py\", line 369, in dispatch_shell\n      await result\n    File \"C:\\Users\\wmy\\AppData\\Local\\Programs\\Python\\Python39\\lib\\site-packages\\ipykernel\\kernelbase.py\", line 664, in execute_request\n      reply_content = await reply_content\n    File \"C:\\Users\\wmy\\AppData\\Local\\Programs\\Python\\Python39\\lib\\site-packages\\ipykernel\\ipkernel.py\", line 355, in do_execute\n      res = shell.run_cell(code, store_history=store_history, silent=silent)\n    File \"C:\\Users\\wmy\\AppData\\Local\\Programs\\Python\\Python39\\lib\\site-packages\\ipykernel\\zmqshell.py\", line 532, in run_cell\n      return super().run_cell(*args, **kwargs)\n    File \"C:\\Users\\wmy\\AppData\\Local\\Programs\\Python\\Python39\\lib\\site-packages\\IPython\\core\\interactiveshell.py\", line 2863, in run_cell\n      result = self._run_cell(\n    File \"C:\\Users\\wmy\\AppData\\Local\\Programs\\Python\\Python39\\lib\\site-packages\\IPython\\core\\interactiveshell.py\", line 2909, in _run_cell\n      return runner(coro)\n    File \"C:\\Users\\wmy\\AppData\\Local\\Programs\\Python\\Python39\\lib\\site-packages\\IPython\\core\\async_helpers.py\", line 129, in _pseudo_sync_runner\n      coro.send(None)\n    File \"C:\\Users\\wmy\\AppData\\Local\\Programs\\Python\\Python39\\lib\\site-packages\\IPython\\core\\interactiveshell.py\", line 3106, in run_cell_async\n      has_raised = await self.run_ast_nodes(code_ast.body, cell_name,\n    File \"C:\\Users\\wmy\\AppData\\Local\\Programs\\Python\\Python39\\lib\\site-packages\\IPython\\core\\interactiveshell.py\", line 3309, in run_ast_nodes\n      if await self.run_code(code, result, async_=asy):\n    File \"C:\\Users\\wmy\\AppData\\Local\\Programs\\Python\\Python39\\lib\\site-packages\\IPython\\core\\interactiveshell.py\", line 3369, in run_code\n      exec(code_obj, self.user_global_ns, self.user_ns)\n    File \"C:\\Users\\wmy\\AppData\\Local\\Temp\\ipykernel_9312\\3265875005.py\", line 30, in <cell line: 30>\n      history = model.fit(x_train, y_train, batch_size=batch_size,\n    File \"C:\\Users\\wmy\\AppData\\Local\\Programs\\Python\\Python39\\lib\\site-packages\\keras\\utils\\traceback_utils.py\", line 64, in error_handler\n      return fn(*args, **kwargs)\n    File \"C:\\Users\\wmy\\AppData\\Local\\Programs\\Python\\Python39\\lib\\site-packages\\keras\\engine\\training.py\", line 1384, in fit\n      tmp_logs = self.train_function(iterator)\n    File \"C:\\Users\\wmy\\AppData\\Local\\Programs\\Python\\Python39\\lib\\site-packages\\keras\\engine\\training.py\", line 1021, in train_function\n      return step_function(self, iterator)\n    File \"C:\\Users\\wmy\\AppData\\Local\\Programs\\Python\\Python39\\lib\\site-packages\\keras\\engine\\training.py\", line 1010, in step_function\n      outputs = model.distribute_strategy.run(run_step, args=(data,))\n    File \"C:\\Users\\wmy\\AppData\\Local\\Programs\\Python\\Python39\\lib\\site-packages\\keras\\engine\\training.py\", line 1000, in run_step\n      outputs = model.train_step(data)\n    File \"C:\\Users\\wmy\\AppData\\Local\\Programs\\Python\\Python39\\lib\\site-packages\\keras\\engine\\training.py\", line 859, in train_step\n      y_pred = self(x, training=True)\n    File \"C:\\Users\\wmy\\AppData\\Local\\Programs\\Python\\Python39\\lib\\site-packages\\keras\\utils\\traceback_utils.py\", line 64, in error_handler\n      return fn(*args, **kwargs)\n    File \"C:\\Users\\wmy\\AppData\\Local\\Programs\\Python\\Python39\\lib\\site-packages\\keras\\engine\\base_layer.py\", line 1096, in __call__\n      outputs = call_fn(inputs, *args, **kwargs)\n    File \"C:\\Users\\wmy\\AppData\\Local\\Programs\\Python\\Python39\\lib\\site-packages\\keras\\utils\\traceback_utils.py\", line 92, in error_handler\n      return fn(*args, **kwargs)\n    File \"C:\\Users\\wmy\\AppData\\Local\\Programs\\Python\\Python39\\lib\\site-packages\\keras\\engine\\sequential.py\", line 374, in call\n      return super(Sequential, self).call(inputs, training=training, mask=mask)\n    File \"C:\\Users\\wmy\\AppData\\Local\\Programs\\Python\\Python39\\lib\\site-packages\\keras\\engine\\functional.py\", line 451, in call\n      return self._run_internal_graph(\n    File \"C:\\Users\\wmy\\AppData\\Local\\Programs\\Python\\Python39\\lib\\site-packages\\keras\\engine\\functional.py\", line 571, in _run_internal_graph\n      y = self._conform_to_reference_input(y, ref_input=x)\n    File \"C:\\Users\\wmy\\AppData\\Local\\Programs\\Python\\Python39\\lib\\site-packages\\keras\\engine\\functional.py\", line 671, in _conform_to_reference_input\n      tensor = tf.cast(tensor, dtype=ref_input.dtype)\nNode: 'sequential_9/Cast'\nCast string to float is not supported\n\t [[{{node sequential_9/Cast}}]] [Op:__inference_train_function_45516]",
     "output_type": "error",
     "traceback": [
      "\u001b[1;31m---------------------------------------------------------------------------\u001b[0m",
      "\u001b[1;31mUnimplementedError\u001b[0m                        Traceback (most recent call last)",
      "Input \u001b[1;32mIn [64]\u001b[0m, in \u001b[0;36m<cell line: 30>\u001b[1;34m()\u001b[0m\n\u001b[0;32m     27\u001b[0m model\u001b[38;5;241m.\u001b[39mcompile(loss\u001b[38;5;241m=\u001b[39m\u001b[38;5;124m'\u001b[39m\u001b[38;5;124mcategorical_crossentropy\u001b[39m\u001b[38;5;124m'\u001b[39m, optimizer\u001b[38;5;241m=\u001b[39m\u001b[38;5;124m'\u001b[39m\u001b[38;5;124madam\u001b[39m\u001b[38;5;124m'\u001b[39m, metrics\u001b[38;5;241m=\u001b[39m[\u001b[38;5;124m'\u001b[39m\u001b[38;5;124maccuracy\u001b[39m\u001b[38;5;124m'\u001b[39m])\n\u001b[0;32m     29\u001b[0m \u001b[38;5;66;03m# fit the model\u001b[39;00m\n\u001b[1;32m---> 30\u001b[0m history \u001b[38;5;241m=\u001b[39m \u001b[43mmodel\u001b[49m\u001b[38;5;241;43m.\u001b[39;49m\u001b[43mfit\u001b[49m\u001b[43m(\u001b[49m\u001b[43mx_train\u001b[49m\u001b[43m,\u001b[49m\u001b[43m \u001b[49m\u001b[43my_train\u001b[49m\u001b[43m,\u001b[49m\u001b[43m \u001b[49m\u001b[43mbatch_size\u001b[49m\u001b[38;5;241;43m=\u001b[39;49m\u001b[43mbatch_size\u001b[49m\u001b[43m,\u001b[49m\n\u001b[0;32m     31\u001b[0m \u001b[43m          \u001b[49m\u001b[43mepochs\u001b[49m\u001b[38;5;241;43m=\u001b[39;49m\u001b[43mepochs\u001b[49m\u001b[43m,\u001b[49m\u001b[43m \u001b[49m\u001b[43mverbose\u001b[49m\u001b[38;5;241;43m=\u001b[39;49m\u001b[38;5;241;43m1\u001b[39;49m\u001b[43m,\u001b[49m\u001b[43mvalidation_data\u001b[49m\u001b[38;5;241;43m=\u001b[39;49m\u001b[43m(\u001b[49m\u001b[43mx_test\u001b[49m\u001b[43m,\u001b[49m\u001b[43m \u001b[49m\u001b[43my_test\u001b[49m\u001b[43m)\u001b[49m\u001b[43m)\u001b[49m\n\u001b[0;32m     32\u001b[0m scores \u001b[38;5;241m=\u001b[39m model\u001b[38;5;241m.\u001b[39mevaluate(x_test, y_test, verbose\u001b[38;5;241m=\u001b[39m\u001b[38;5;241m0\u001b[39m)\n\u001b[0;32m     33\u001b[0m \u001b[38;5;28mprint\u001b[39m(\u001b[38;5;124m\"\u001b[39m\u001b[38;5;124mAccuracy: \u001b[39m\u001b[38;5;132;01m%.2f\u001b[39;00m\u001b[38;5;132;01m%%\u001b[39;00m\u001b[38;5;124m\"\u001b[39m \u001b[38;5;241m%\u001b[39m (scores[\u001b[38;5;241m1\u001b[39m]\u001b[38;5;241m*\u001b[39m\u001b[38;5;241m100\u001b[39m))\n",
      "File \u001b[1;32m~\\AppData\\Local\\Programs\\Python\\Python39\\lib\\site-packages\\keras\\utils\\traceback_utils.py:67\u001b[0m, in \u001b[0;36mfilter_traceback.<locals>.error_handler\u001b[1;34m(*args, **kwargs)\u001b[0m\n\u001b[0;32m     65\u001b[0m \u001b[38;5;28;01mexcept\u001b[39;00m \u001b[38;5;167;01mException\u001b[39;00m \u001b[38;5;28;01mas\u001b[39;00m e:  \u001b[38;5;66;03m# pylint: disable=broad-except\u001b[39;00m\n\u001b[0;32m     66\u001b[0m   filtered_tb \u001b[38;5;241m=\u001b[39m _process_traceback_frames(e\u001b[38;5;241m.\u001b[39m__traceback__)\n\u001b[1;32m---> 67\u001b[0m   \u001b[38;5;28;01mraise\u001b[39;00m e\u001b[38;5;241m.\u001b[39mwith_traceback(filtered_tb) \u001b[38;5;28;01mfrom\u001b[39;00m \u001b[38;5;28mNone\u001b[39m\n\u001b[0;32m     68\u001b[0m \u001b[38;5;28;01mfinally\u001b[39;00m:\n\u001b[0;32m     69\u001b[0m   \u001b[38;5;28;01mdel\u001b[39;00m filtered_tb\n",
      "File \u001b[1;32m~\\AppData\\Local\\Programs\\Python\\Python39\\lib\\site-packages\\tensorflow\\python\\eager\\execute.py:54\u001b[0m, in \u001b[0;36mquick_execute\u001b[1;34m(op_name, num_outputs, inputs, attrs, ctx, name)\u001b[0m\n\u001b[0;32m     52\u001b[0m \u001b[38;5;28;01mtry\u001b[39;00m:\n\u001b[0;32m     53\u001b[0m   ctx\u001b[38;5;241m.\u001b[39mensure_initialized()\n\u001b[1;32m---> 54\u001b[0m   tensors \u001b[38;5;241m=\u001b[39m pywrap_tfe\u001b[38;5;241m.\u001b[39mTFE_Py_Execute(ctx\u001b[38;5;241m.\u001b[39m_handle, device_name, op_name,\n\u001b[0;32m     55\u001b[0m                                       inputs, attrs, num_outputs)\n\u001b[0;32m     56\u001b[0m \u001b[38;5;28;01mexcept\u001b[39;00m core\u001b[38;5;241m.\u001b[39m_NotOkStatusException \u001b[38;5;28;01mas\u001b[39;00m e:\n\u001b[0;32m     57\u001b[0m   \u001b[38;5;28;01mif\u001b[39;00m name \u001b[38;5;129;01mis\u001b[39;00m \u001b[38;5;129;01mnot\u001b[39;00m \u001b[38;5;28;01mNone\u001b[39;00m:\n",
      "\u001b[1;31mUnimplementedError\u001b[0m: Graph execution error:\n\nDetected at node 'sequential_9/Cast' defined at (most recent call last):\n    File \"C:\\Users\\wmy\\AppData\\Local\\Programs\\Python\\Python39\\lib\\runpy.py\", line 197, in _run_module_as_main\n      return _run_code(code, main_globals, None,\n    File \"C:\\Users\\wmy\\AppData\\Local\\Programs\\Python\\Python39\\lib\\runpy.py\", line 87, in _run_code\n      exec(code, run_globals)\n    File \"C:\\Users\\wmy\\AppData\\Local\\Programs\\Python\\Python39\\lib\\site-packages\\ipykernel_launcher.py\", line 16, in <module>\n      app.launch_new_instance()\n    File \"C:\\Users\\wmy\\AppData\\Local\\Programs\\Python\\Python39\\lib\\site-packages\\traitlets\\config\\application.py\", line 846, in launch_instance\n      app.start()\n    File \"C:\\Users\\wmy\\AppData\\Local\\Programs\\Python\\Python39\\lib\\site-packages\\ipykernel\\kernelapp.py\", line 677, in start\n      self.io_loop.start()\n    File \"C:\\Users\\wmy\\AppData\\Local\\Programs\\Python\\Python39\\lib\\site-packages\\tornado\\platform\\asyncio.py\", line 199, in start\n      self.asyncio_loop.run_forever()\n    File \"C:\\Users\\wmy\\AppData\\Local\\Programs\\Python\\Python39\\lib\\asyncio\\base_events.py\", line 601, in run_forever\n      self._run_once()\n    File \"C:\\Users\\wmy\\AppData\\Local\\Programs\\Python\\Python39\\lib\\asyncio\\base_events.py\", line 1905, in _run_once\n      handle._run()\n    File \"C:\\Users\\wmy\\AppData\\Local\\Programs\\Python\\Python39\\lib\\asyncio\\events.py\", line 80, in _run\n      self._context.run(self._callback, *self._args)\n    File \"C:\\Users\\wmy\\AppData\\Local\\Programs\\Python\\Python39\\lib\\site-packages\\ipykernel\\kernelbase.py\", line 473, in dispatch_queue\n      await self.process_one()\n    File \"C:\\Users\\wmy\\AppData\\Local\\Programs\\Python\\Python39\\lib\\site-packages\\ipykernel\\kernelbase.py\", line 462, in process_one\n      await dispatch(*args)\n    File \"C:\\Users\\wmy\\AppData\\Local\\Programs\\Python\\Python39\\lib\\site-packages\\ipykernel\\kernelbase.py\", line 369, in dispatch_shell\n      await result\n    File \"C:\\Users\\wmy\\AppData\\Local\\Programs\\Python\\Python39\\lib\\site-packages\\ipykernel\\kernelbase.py\", line 664, in execute_request\n      reply_content = await reply_content\n    File \"C:\\Users\\wmy\\AppData\\Local\\Programs\\Python\\Python39\\lib\\site-packages\\ipykernel\\ipkernel.py\", line 355, in do_execute\n      res = shell.run_cell(code, store_history=store_history, silent=silent)\n    File \"C:\\Users\\wmy\\AppData\\Local\\Programs\\Python\\Python39\\lib\\site-packages\\ipykernel\\zmqshell.py\", line 532, in run_cell\n      return super().run_cell(*args, **kwargs)\n    File \"C:\\Users\\wmy\\AppData\\Local\\Programs\\Python\\Python39\\lib\\site-packages\\IPython\\core\\interactiveshell.py\", line 2863, in run_cell\n      result = self._run_cell(\n    File \"C:\\Users\\wmy\\AppData\\Local\\Programs\\Python\\Python39\\lib\\site-packages\\IPython\\core\\interactiveshell.py\", line 2909, in _run_cell\n      return runner(coro)\n    File \"C:\\Users\\wmy\\AppData\\Local\\Programs\\Python\\Python39\\lib\\site-packages\\IPython\\core\\async_helpers.py\", line 129, in _pseudo_sync_runner\n      coro.send(None)\n    File \"C:\\Users\\wmy\\AppData\\Local\\Programs\\Python\\Python39\\lib\\site-packages\\IPython\\core\\interactiveshell.py\", line 3106, in run_cell_async\n      has_raised = await self.run_ast_nodes(code_ast.body, cell_name,\n    File \"C:\\Users\\wmy\\AppData\\Local\\Programs\\Python\\Python39\\lib\\site-packages\\IPython\\core\\interactiveshell.py\", line 3309, in run_ast_nodes\n      if await self.run_code(code, result, async_=asy):\n    File \"C:\\Users\\wmy\\AppData\\Local\\Programs\\Python\\Python39\\lib\\site-packages\\IPython\\core\\interactiveshell.py\", line 3369, in run_code\n      exec(code_obj, self.user_global_ns, self.user_ns)\n    File \"C:\\Users\\wmy\\AppData\\Local\\Temp\\ipykernel_9312\\3265875005.py\", line 30, in <cell line: 30>\n      history = model.fit(x_train, y_train, batch_size=batch_size,\n    File \"C:\\Users\\wmy\\AppData\\Local\\Programs\\Python\\Python39\\lib\\site-packages\\keras\\utils\\traceback_utils.py\", line 64, in error_handler\n      return fn(*args, **kwargs)\n    File \"C:\\Users\\wmy\\AppData\\Local\\Programs\\Python\\Python39\\lib\\site-packages\\keras\\engine\\training.py\", line 1384, in fit\n      tmp_logs = self.train_function(iterator)\n    File \"C:\\Users\\wmy\\AppData\\Local\\Programs\\Python\\Python39\\lib\\site-packages\\keras\\engine\\training.py\", line 1021, in train_function\n      return step_function(self, iterator)\n    File \"C:\\Users\\wmy\\AppData\\Local\\Programs\\Python\\Python39\\lib\\site-packages\\keras\\engine\\training.py\", line 1010, in step_function\n      outputs = model.distribute_strategy.run(run_step, args=(data,))\n    File \"C:\\Users\\wmy\\AppData\\Local\\Programs\\Python\\Python39\\lib\\site-packages\\keras\\engine\\training.py\", line 1000, in run_step\n      outputs = model.train_step(data)\n    File \"C:\\Users\\wmy\\AppData\\Local\\Programs\\Python\\Python39\\lib\\site-packages\\keras\\engine\\training.py\", line 859, in train_step\n      y_pred = self(x, training=True)\n    File \"C:\\Users\\wmy\\AppData\\Local\\Programs\\Python\\Python39\\lib\\site-packages\\keras\\utils\\traceback_utils.py\", line 64, in error_handler\n      return fn(*args, **kwargs)\n    File \"C:\\Users\\wmy\\AppData\\Local\\Programs\\Python\\Python39\\lib\\site-packages\\keras\\engine\\base_layer.py\", line 1096, in __call__\n      outputs = call_fn(inputs, *args, **kwargs)\n    File \"C:\\Users\\wmy\\AppData\\Local\\Programs\\Python\\Python39\\lib\\site-packages\\keras\\utils\\traceback_utils.py\", line 92, in error_handler\n      return fn(*args, **kwargs)\n    File \"C:\\Users\\wmy\\AppData\\Local\\Programs\\Python\\Python39\\lib\\site-packages\\keras\\engine\\sequential.py\", line 374, in call\n      return super(Sequential, self).call(inputs, training=training, mask=mask)\n    File \"C:\\Users\\wmy\\AppData\\Local\\Programs\\Python\\Python39\\lib\\site-packages\\keras\\engine\\functional.py\", line 451, in call\n      return self._run_internal_graph(\n    File \"C:\\Users\\wmy\\AppData\\Local\\Programs\\Python\\Python39\\lib\\site-packages\\keras\\engine\\functional.py\", line 571, in _run_internal_graph\n      y = self._conform_to_reference_input(y, ref_input=x)\n    File \"C:\\Users\\wmy\\AppData\\Local\\Programs\\Python\\Python39\\lib\\site-packages\\keras\\engine\\functional.py\", line 671, in _conform_to_reference_input\n      tensor = tf.cast(tensor, dtype=ref_input.dtype)\nNode: 'sequential_9/Cast'\nCast string to float is not supported\n\t [[{{node sequential_9/Cast}}]] [Op:__inference_train_function_45516]"
     ]
    }
   ],
   "source": [
    "batch_size = 32\n",
    "embedding_dims = 5000\n",
    "filters = 250\n",
    "kernel_size = 5\n",
    "epochs = 10\n",
    "\n",
    "# load the dataset but only keep the top n words, zero the rest\n",
    "# features_new = min_max_normalize(features_new)\n",
    "top_words = 500\n",
    "x_train = X_train.reshape(-1,1)\n",
    "y_train = y_train.reshape(-1,1)\n",
    "x_test = np.array(X_test).reshape(-1,1)\n",
    "y_test = np.array(y_test).reshape(-1,1)\n",
    "# pad dataset to a maximum review length in words\n",
    "max_words = 200\n",
    "# x_train = sequence.pad_sequences(x_train, maxlen=max_words)\n",
    "# x_test = sequence.pad_sequences(x_test, maxlen=max_words)\n",
    "\n",
    "model = Sequential()\n",
    "model.add(layers.Embedding(len(vocabulary)+1, 15))\n",
    "model.add(layers.SimpleRNN(15,return_sequences=True))\n",
    "model.add(Dropout(0.3))\n",
    "model.add(layers.SimpleRNN(15))\n",
    "model.add(layers.Dense(1,activation='softmax', kernel_regularizer='l2'))\n",
    "\n",
    "# model = Model(inputs=sentence, outputs=pred)\n",
    "model.compile(loss='categorical_crossentropy', optimizer='adam', metrics=['accuracy'])\n",
    "\n",
    "# fit the model\n",
    "history = model.fit(x_train, y_train, batch_size=batch_size,\n",
    "          epochs=epochs, verbose=1,validation_data=(x_test, y_test))\n",
    "scores = model.evaluate(x_test, y_test, verbose=0)\n",
    "print(\"Accuracy: %.2f%%\" % (scores[1]*100))"
   ]
  },
  {
   "cell_type": "code",
   "execution_count": null,
   "id": "5f814db2",
   "metadata": {},
   "outputs": [],
   "source": []
  },
  {
   "cell_type": "code",
   "execution_count": null,
   "id": "670a7539",
   "metadata": {},
   "outputs": [],
   "source": []
  }
 ],
 "metadata": {
  "kernelspec": {
   "display_name": "Python 3 (ipykernel)",
   "language": "python",
   "name": "python3"
  },
  "language_info": {
   "codemirror_mode": {
    "name": "ipython",
    "version": 3
   },
   "file_extension": ".py",
   "mimetype": "text/x-python",
   "name": "python",
   "nbconvert_exporter": "python",
   "pygments_lexer": "ipython3",
   "version": "3.9.12"
  },
  "toc": {
   "base_numbering": 1,
   "nav_menu": {},
   "number_sections": false,
   "sideBar": true,
   "skip_h1_title": false,
   "title_cell": "Table of Contents",
   "title_sidebar": "Contents",
   "toc_cell": false,
   "toc_position": {},
   "toc_section_display": true,
   "toc_window_display": false
  }
 },
 "nbformat": 4,
 "nbformat_minor": 5
}
