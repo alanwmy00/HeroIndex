{
 "cells": [
  {
   "cell_type": "code",
   "execution_count": 1,
   "id": "a7c14a50",
   "metadata": {},
   "outputs": [],
   "source": [
    "import pandas as pd\n",
    "import numpy as np\n",
    "import sklearn\n",
    "from matplotlib import pyplot as plt\n",
    "import tensorflow as tf\n",
    "from tensorflow import keras\n",
    "from tensorflow.keras import layers\n",
    "from tensorflow.keras.layers.experimental.preprocessing import TextVectorization\n",
    "from tensorflow.keras.layers.experimental.preprocessing import StringLookup\n",
    "\n",
    "from sklearn.preprocessing import MultiLabelBinarizer\n",
    "from sklearn.model_selection import train_test_split\n",
    "\n",
    "tf.random.set_seed(1)"
   ]
  },
  {
   "cell_type": "code",
   "execution_count": 2,
   "id": "5c5ee27b",
   "metadata": {},
   "outputs": [
    {
     "name": "stderr",
     "output_type": "stream",
     "text": [
      "[nltk_data] Downloading package stopwords to\n",
      "[nltk_data]     C:\\Users\\wmy\\AppData\\Roaming\\nltk_data...\n",
      "[nltk_data]   Package stopwords is already up-to-date!\n"
     ]
    }
   ],
   "source": [
    "import nltk\n",
    "from nltk.corpus import stopwords\n",
    "from string import punctuation\n",
    "import re\n",
    "nltk.download('stopwords')\n",
    "stops = set(stopwords.words('english'))\n",
    "stops.add(\"'s\")\n",
    "stops.remove(\"not\")\n",
    "\n",
    "def clean(sentence):\n",
    "    # delete stopwords\n",
    "    temp = \" \".join(filter(lambda x: x not in stops, sentence.split()))\n",
    "    # Remove punctuation\n",
    "    temp = temp.translate(str.maketrans('', '', punctuation))\n",
    "    # remove non-english characters\n",
    "    temp = temp.encode(\"ascii\", \"ignore\").decode()\n",
    "    # Change all to lower case\n",
    "    temp = temp.lower()\n",
    "    # Delete numbers\n",
    "    temp = re.sub(r'[0-9]', \"\", temp)\n",
    "    # Delete excessive spaces and return\n",
    "    return re.sub(\"  \", \" \", temp)"
   ]
  },
  {
   "cell_type": "code",
   "execution_count": 5,
   "id": "d04c5e23-2db5-496a-a361-6dab2fd494ce",
   "metadata": {},
   "outputs": [],
   "source": [
    "articles = pd.read_csv(\"Article-2022-05-08.csv\")\n",
    "articles_labeled = articles.copy()\n",
    "articles_labeled['key_terms'] = articles['key_terms'].apply(lambda s: [l for l in str(s).split(',')])\n",
    "mlb = MultiLabelBinarizer()\n",
    "mlb.fit(articles_labeled[\"key_terms\"])\n",
    "y_bin = mlb.transform(articles_labeled[\"key_terms\"])\n",
    "articles_labeled['text'] = articles_labeled['text'].fillna(\"\")\n",
    "articles_labeled['text'] = articles_labeled['title'] + articles_labeled['text']\n",
    "articles_labeled[\"text\"] = articles_labeled[\"text\"].apply(clean)\n"
   ]
  },
  {
   "cell_type": "code",
   "execution_count": 6,
   "id": "671d0b1d-6f75-4dc1-a320-fab7d7d47297",
   "metadata": {},
   "outputs": [],
   "source": [
    "data = tf.data.Dataset.from_tensor_slices((articles_labeled[\"text\"], y_bin))\n",
    "data = data.shuffle(buffer_size = len(data), seed=1)\n",
    "\n",
    "train_size = int(0.7*len(data))\n",
    "val_size   = int(0.1*len(data))\n",
    "\n",
    "train = data.take(train_size)\n",
    "val   = data.skip(train_size).take(val_size)\n",
    "test  = data.skip(train_size + val_size)"
   ]
  },
  {
   "cell_type": "code",
   "execution_count": 7,
   "id": "54d10fd6-45a0-470d-a867-01d2b966e718",
   "metadata": {},
   "outputs": [],
   "source": [
    "# only the top distinct words will be tracked\n",
    "max_tokens = 2000\n",
    "\n",
    "# each headline will be a vector of length 25\n",
    "sequence_length = 25\n",
    "\n",
    "vectorize_layer = TextVectorization(\n",
    "    max_tokens=max_tokens, # only consider this many words\n",
    "    output_mode='int',\n",
    "    output_sequence_length=sequence_length) \n",
    "\n",
    "headlines = train.map(lambda x, y: x)\n",
    "vectorize_layer.adapt(headlines)"
   ]
  },
  {
   "cell_type": "code",
   "execution_count": 8,
   "id": "073ef789",
   "metadata": {},
   "outputs": [],
   "source": [
    "new_model = tf.keras.models.load_model('saved_model/classfication_model_multi_label.h5')"
   ]
  },
  {
   "cell_type": "code",
   "execution_count": 9,
   "id": "e76a4a0a",
   "metadata": {},
   "outputs": [],
   "source": [
    "keys = dict(zip(range(16), [int(i) for i in ['1', '10', '11', '12', '13', '14', '15', '16', '2', '3', '4', '5',\n",
    "       '6', '7', '8', '9']]))\n",
    "\n",
    "def idx_to_label(arr):\n",
    "    return [[keys[i] for i in range(16) if j[i] == 1] for j in arr]\n",
    "\n",
    "def predict(x):\n",
    "    \"\"\"\n",
    "    predict labels\n",
    "    @params x: 1d or 2d array or list\n",
    "    @return labels in a 2d array\n",
    "    \"\"\"\n",
    "    x = np.array(x).reshape(-1,)\n",
    "    x = np.array(list(map(clean, x)))\n",
    "    x = tf.expand_dims(x, -1)\n",
    "    return idx_to_label(np.round(new_model.predict(vectorize_layer(x))))  "
   ]
  },
  {
   "cell_type": "code",
   "execution_count": 10,
   "id": "bc963a09",
   "metadata": {},
   "outputs": [
    {
     "name": "stdout",
     "output_type": "stream",
     "text": [
      "1/1 [==============================] - 5s 5s/step\n"
     ]
    },
    {
     "data": {
      "text/plain": [
       "[[5]]"
      ]
     },
     "execution_count": 10,
     "metadata": {},
     "output_type": "execute_result"
    }
   ],
   "source": [
    "predict([\"\"\"\n",
    "FedEx Commits to Carbon-Neutral Operations by the year 2040\n",
    "\n",
    "FedEx Corp. announced today an ambitious goal to achieve carbon-neutral operations globally by 2040.\n",
    "\n",
    "To help reach this goal, FedEx is designating more than $2 billion of initial investment in three key areas: vehicle electrification, sustainable energy, and carbon sequestration. This includes a pledge of $100 million to Yale University to help establish the Yale Center for Natural Carbon Capture, accelerating research into methods of carbon sequestration at scale, with an initial focus on helping to offset greenhouse gas emissions equivalent to current airline emissions.\n",
    "\n",
    "?€?We have a responsibility to take bold action in addressing climate challenges,?€? said Frederick W. Smith, Chairman and CEO, FedEx Corp. ?€?This goal builds on our longstanding commitment to sustainability throughout our operations, while at the same time investing in long-term, transformational solutions for FedEx and our entire industry.?€?\n",
    "\n",
    "Key steps toward reaching the carbon neutral goal include:\n",
    "\n",
    "Vehicle Electrification . By 2040, the entire FedEx parcel pickup and delivery (PUD) fleet will be zero-emission electric vehicles. This will be accomplished through phased programs to replace existing vehicles. For example, by 2025, 50% of FedEx Express global PUD vehicle purchases will be electric, rising to 100% of all purchases by 2030.\n",
    "\n",
    "Sustainable Customer Solutions . FedEx will work with customers to offer end-to-end sustainability for their supply chains through carbon-neutral shipping offerings and sustainable packaging solutions.\n",
    "\n",
    "Sustainable Fuels . FedEx will continue to invest in alternative fuels to reduce aircraft and vehicle emissions.\n",
    "\n",
    "Fuel Conservation and Aircraft Modernization . FedEx will build on its successful FedEx Fuel Sense initiatives designed to reduce fuel consumption in its aircraft. Since 2012, the FedEx Fuel Sense and Aircraft Modernization programs have saved a combined 1.43 billion gallons of jet fuel and avoided over 13.5 million metric tons of carbon dioxide (CO2) emissions.\n",
    "\n",
    "Facilities . FedEx will continue efforts to make its more than 5,000 facilities worldwide more sustainable through continued investments in efficient facilities, renewable energy, and other energy management programmes.\n",
    "\n",
    "Natural Carbon Sequestration . FedEx funding will help to establish the Yale Center for Natural Carbon Capture to support applied research into natural carbon sequestration solutions.\n",
    "\n",
    "The path toward sustainability requires new strategies for removing and storing Earth?€?s excess carbon. The Yale Center for Natural Carbon Capture will catalyze interdisciplinary research across the natural sciences and engineering in an effort to accelerate this work.\n",
    "\n",
    "Center researchers will develop methods that build on natural carbon storage systems, including biological ecosystems and the geological carbon cycle, improving, where possible, how quickly carbon can be absorbed, how much can be contained, and how long it can be stored. Through these efforts, Yale scientists aim to create a portfolio of carbon removal strategies that have impacts on a global scale.\n",
    "\n",
    "Building upon initial successes in the aviation sector, the centre will broaden its scope to address additional global sources of emissions ?€? publishing and sharing its findings so that businesses, industries, and governments can benefit from work that will accelerate the adoption and implementation of natural carbon capture strategies around the world.\n",
    "\n",
    "?€?Addressing climate change is a complex challenge that demands urgent action, and natural carbon capture strategies will be one key part of that action,?€? said Dr. Ingrid C. ?€?Indy?€? Burke, the Carl W. Knobloch, Jr. Dean of the Yale School of the Environment. ?€?Through the creation of the Yale Center for Natural Carbon Capture, we aim to develop measurable carbon capture strategies to help offset carbon emissions globally.?€?\n",
    "\n",
    "The FedEx commitment builds on a history of sustainable practices. Since 2009, the company?€?s efforts have contributed to an approximately 40% reduction in CO2 emissions intensity across the enterprise while package volume increased 99% during that period. Recently, FedEx was ranked first in its industry on JUST Capital?€?s 2021 list of ?€?America?€?s Most Just Companies?€? in the environment category and first in the travel, transport and logistics sector of Newsweek?€?s ?€?America?€?s Most Responsible Companies 2021.?€?\n",
    "\n",
    "?€?While we?€?ve made great strides in reducing our environmental impact, we have to do more. The long-term health of our industry is directly linked to the health of the planet, but this effort is about more than the bottom line ?€? it?€?s the right thing to do,?€? said Mitch Jackson, Chief Sustainability Officer, FedEx Corp. ?€?At FedEx, we are committed to connecting people and possibilities resourcefully and responsibly. The steps we are taking today will contribute a positive impact for generations to come.?€?\n",
    "\n",
    "Disclaimer: This media release is auto-generated. The CSR Journal is not responsible for the content\n",
    "\"\"\"])"
   ]
  },
  {
   "cell_type": "code",
   "execution_count": null,
   "id": "e90440dc",
   "metadata": {},
   "outputs": [],
   "source": []
  }
 ],
 "metadata": {
  "kernelspec": {
   "display_name": "Python 3 (ipykernel)",
   "language": "python",
   "name": "python3"
  },
  "language_info": {
   "codemirror_mode": {
    "name": "ipython",
    "version": 3
   },
   "file_extension": ".py",
   "mimetype": "text/x-python",
   "name": "python",
   "nbconvert_exporter": "python",
   "pygments_lexer": "ipython3",
   "version": "3.9.12"
  },
  "toc": {
   "base_numbering": 1,
   "nav_menu": {},
   "number_sections": false,
   "sideBar": true,
   "skip_h1_title": false,
   "title_cell": "Table of Contents",
   "title_sidebar": "Contents",
   "toc_cell": false,
   "toc_position": {},
   "toc_section_display": true,
   "toc_window_display": false
  }
 },
 "nbformat": 4,
 "nbformat_minor": 5
}
